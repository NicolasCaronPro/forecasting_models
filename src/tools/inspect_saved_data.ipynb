{
 "cells": [
  {
   "cell_type": "code",
   "execution_count": null,
   "metadata": {},
   "outputs": [],
   "source": [
    "import os\n",
    "import pandas as pd\n",
    "\n",
    "def read_feather_recursif(dossiers):\n",
    "    \"\"\"\n",
    "    Parcourt les dossiers et leurs sous-dossiers récursivement et supprime\n",
    "    tous les fichiers 'data.feather' s'ils existent.\n",
    "    \n",
    "    :param dossiers: Liste de chemins de dossiers à parcourir.\n",
    "    \"\"\"\n",
    "    # Définir l'expression régulière pour correspondre à 'data.feather' ou 'data_<word>.feather'\n",
    "    pattern = re.compile(r'^data(?:_[a-zA-ZçÇéÉèÈêÊëËàÀâÂîÎïÏôÔûÛùÙüÜœŒ\\s\\W]+)*\\.feather$', re.UNICODE)\n",
    "    for dossier in dossiers:\n",
    "        # Parcours récursivement le dossier et ses sous-dossiers\n",
    "        for chemin_racine, sous_dossiers, fichiers in os.walk(dossier):\n",
    "            # Filtre les fichiers correspondant à l'expression régulière\n",
    "            for fichier in fichiers:\n",
    "                # print(fichier)\n",
    "                if pattern.match(fichier):\n",
    "                    chemin_fichier = os.path.join(chemin_racine, fichier)\n",
    "                    df = pd.read_feather(chemin_fichier)\n",
    "                    print(df)"
   ]
  },
  {
   "cell_type": "code",
   "execution_count": null,
   "metadata": {},
   "outputs": [],
   "source": [
    "dossiers_a_parcourir = [\n",
    "    \"../../data/features/hospitalfeatures\"\n",
    "]\n",
    "\n",
    "read_feather_recursif(dossiers_a_parcourir)"
   ]
  }
 ],
 "metadata": {
  "kernelspec": {
   "display_name": ".venv",
   "language": "python",
   "name": "python3"
  },
  "language_info": {
   "codemirror_mode": {
    "name": "ipython",
    "version": 3
   },
   "file_extension": ".py",
   "mimetype": "text/x-python",
   "name": "python",
   "nbconvert_exporter": "python",
   "pygments_lexer": "ipython3",
   "version": "3.10.12"
  }
 },
 "nbformat": 4,
 "nbformat_minor": 2
}
