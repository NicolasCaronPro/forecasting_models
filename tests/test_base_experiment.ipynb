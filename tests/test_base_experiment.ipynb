{
 "cells": [
  {
   "cell_type": "code",
   "execution_count": null,
   "id": "4f22854b",
   "metadata": {},
   "outputs": [],
   "source": [
    "import os\n",
    "import sys\n",
    "sys.path.insert(0, os.path.abspath(\n",
    "    os.path.join(os.path.dirname('__file__'), '..')))"
   ]
  },
  {
   "cell_type": "code",
   "execution_count": null,
   "id": "c83c79d7",
   "metadata": {},
   "outputs": [],
   "source": [
    "# %pip install -r ../requirements.txt"
   ]
  },
  {
   "cell_type": "code",
   "execution_count": null,
   "id": "ab26d77a",
   "metadata": {},
   "outputs": [],
   "source": [
    "from src.encoding.encoders import *\n",
    "from src.encoding.tools import create_encoding_pipeline\n",
    "from src.models.sklearn_models import save_object, Model\n",
    "from src.models.sklearn_models_config import get_model\n",
    "from src.datasets.base_tabular_dataset import BaseTabularDataset\n",
    "from src.experiments.base_experiment import BaseExperiment\n",
    "import src.features as ft\n",
    "import logging\n",
    "import pandas as pd\n",
    "import pathlib"
   ]
  },
  {
   "cell_type": "markdown",
   "id": "562258fb",
   "metadata": {},
   "source": [
    "mlflow.set_tracking_uri(\"http://localhost:5000\")"
   ]
  },
  {
   "cell_type": "code",
   "execution_count": null,
   "id": "aafff467",
   "metadata": {},
   "outputs": [],
   "source": [
    "# Define a logger used by all modules\n",
    "logger = logging.getLogger()\n",
    "logger.setLevel(logging.INFO)\n",
    "logging.basicConfig(level=logging.INFO, encoding=\"utf-8\",\n",
    "                    format=\"%(name)s %(asctime)s: %(levelname)s: %(message)s\", handlers=[logging.StreamHandler()])"
   ]
  },
  {
   "cell_type": "code",
   "execution_count": null,
   "id": "f8953827",
   "metadata": {},
   "outputs": [],
   "source": [
    "# Define the root directory of the project\n",
    "root_dir = os.path.abspath(os.path.join(os.path.dirname('__file__'), '..'))\n",
    "root_dir = pathlib.Path(root_dir)"
   ]
  },
  {
   "cell_type": "code",
   "execution_count": null,
   "id": "4406bc55",
   "metadata": {},
   "outputs": [],
   "source": [
    "# Define the configuration for the fetching of the data\n",
    "fetch_config = {\n",
    "    \"data_start\": '01-01-2017',\n",
    "    \"data_stop\": '31-12-2023',\n",
    "    'data_dir': root_dir / 'data',\n",
    "    \"etablissement\": \"CHU Dijon\",\n",
    "    \"departement\": \"21\",\n",
    "    'region': 'BOURGOGNE'\n",
    "    }"
   ]
  },
  {
   "cell_type": "code",
   "execution_count": null,
   "id": "ca0a0e31",
   "metadata": {},
   "outputs": [],
   "source": [
    "# Select the features to be used in the dataset\n",
    "# , ft.FireFightersFeatures(config=config, include_calls=False),\n",
    "#  ft.GoogleTrendFeatures, ft.MeteorologicalFeatures, ft.SociologicalFeatures,\n",
    "#  ft.SportsCompetitionFeatures, ft.TrafficFeatures\n",
    "ars_features_class = [ft.AirQualityFeatures, ft.HopitalFeatures, ft.EpidemiologicalFeatures]"
   ]
  },
  {
   "cell_type": "code",
   "execution_count": null,
   "id": "c2d183ef",
   "metadata": {},
   "outputs": [],
   "source": [
    "# Select the target columns to be predicted\n",
    "# target_colomns = ['nb_vers_hospit']\n",
    "target_colomns = ['Total_CHU Dijon']"
   ]
  },
  {
   "cell_type": "code",
   "execution_count": null,
   "id": "52ebe891",
   "metadata": {},
   "outputs": [],
   "source": [
    "# Define an encoding scheme to create the encoding pipeline\n",
    "encoders_dict = {\n",
    "    'number': {\n",
    "        'as_number': {\n",
    "            'imputers': [imputers.SimpleImputer(strategy='mean')],\n",
    "            'encoders': [\n",
    "                ne.StandardScaler(),\n",
    "            ]\n",
    "        }\n",
    "    },\n",
    "    'category': {\n",
    "        'as_category': {\n",
    "            'imputers': [imputers.SimpleImputer(strategy='most_frequent')],\n",
    "            'encoders': [\n",
    "                ne.MultiTargetEncoder(drop_invariant=True, return_df=True),\n",
    "            ]\n",
    "        }\n",
    "    },\n",
    "    'datetime': {\n",
    "        'as_number': {\n",
    "            'imputers': [de.DateFeatureExtractor()],\n",
    "            'encoders': [\n",
    "                ne.CyclicalFeatures(drop_original=True)\n",
    "            ]\n",
    "        },\n",
    "        'as_category': {\n",
    "            'imputers': [de.DateFeatureExtractor(dtype='category')],\n",
    "            'encoders': [\n",
    "                ne.MultiTargetEncoder(drop_invariant=True, return_df=True),\n",
    "            ]\n",
    "        }\n",
    "    }\n",
    "}"
   ]
  },
  {
   "cell_type": "code",
   "execution_count": null,
   "id": "8080baab",
   "metadata": {},
   "outputs": [],
   "source": [
    "# Create the encoding pipeline\n",
    "pipeline = create_encoding_pipeline(encoders_dict)"
   ]
  },
  {
   "cell_type": "code",
   "execution_count": null,
   "id": "de123e67",
   "metadata": {},
   "outputs": [],
   "source": [
    "# Define the splitting scheme to create the sets\n",
    "split_config = {'test_size': 0.2, 'val_size': 0.2, 'shuffle': False}"
   ]
  },
  {
   "cell_type": "code",
   "execution_count": null,
   "id": "d0dc9555",
   "metadata": {},
   "outputs": [],
   "source": [
    "# Define the configuration of the dataset\n",
    "dataset_config = {\n",
    "    'from_date': '15-01-2019',\n",
    "    'to_date': '31-12-2023',\n",
    "    'shift': [1, 2, 3, 4, 5, 6, 7],\n",
    "    'rolling_window': [7, 14],\n",
    "    'freq': '1D',\n",
    "    'split_config': split_config,\n",
    "    'create_X_y': True,\n",
    "    'encoding_pipeline': pipeline,\n",
    "    'targets_names': target_colomns,\n",
    "    'drop_constant_thr':1.0,\n",
    "    'data_dir': root_dir / 'data'\n",
    "    }"
   ]
  },
  {
   "cell_type": "code",
   "execution_count": null,
   "id": "d2794907",
   "metadata": {},
   "outputs": [],
   "source": [
    "# Create the dataset and fetch the data from the source then call get_dataset() method to fill the different attributes (X and y) of the different sets, and their encodings\n",
    "arsTabularDataset = BaseTabularDataset(features_class=ars_features_class, logger=logger, fetch_config=fetch_config, getter_config=dataset_config)"
   ]
  },
  {
   "cell_type": "code",
   "execution_count": null,
   "id": "dff673c4",
   "metadata": {},
   "outputs": [],
   "source": [
    "# Define the model parameters\n",
    "model_params = {\n",
    "    'early_stopping_rounds': 10,\n",
    "    # 'eval_set': [(arsTabularDataset.enc_X_val, arsTabularDataset.y_val)], # TODO: to be set in the experiment's run method\n",
    "    'verbosity': 0,\n",
    "    'n_estimators': 10000,\n",
    "    'learning_rate': 0.1,\n",
    "    'min_child_weight': 5,\n",
    "    # 'multi_strategy': 'one_output_per_tree',\n",
    "    # 'multi_strategy': 'multi_output_tree' \n",
    "}"
   ]
  },
  {
   "cell_type": "code",
   "execution_count": null,
   "id": "f9ae4569",
   "metadata": {},
   "outputs": [],
   "source": [
    "# Create the model\n",
    "model = get_model(model_type='xgboost', name='XGBRegressor', device='cuda', task_type='regression', test_metrics='w_rmse', with_metric='w_rmse', params=model_params)"
   ]
  },
  {
   "cell_type": "code",
   "execution_count": null,
   "id": "67f700bf",
   "metadata": {},
   "outputs": [],
   "source": [
    "# Create the experiment\n",
    "ars_experiment = BaseExperiment(logger=logger, dataset=arsTabularDataset, model=model)"
   ]
  },
  {
   "cell_type": "code",
   "execution_count": null,
   "id": "27f7e3a1",
   "metadata": {},
   "outputs": [],
   "source": [
    "# Set the model fitting config\n",
    "grid_params = {\n",
    "    'max_depth': [3, 5, 7, 9, 11],\n",
    "}"
   ]
  },
  {
   "cell_type": "code",
   "execution_count": null,
   "id": "a83c37d1",
   "metadata": {},
   "outputs": [],
   "source": [
    "fit_params = {\n",
    "    'verbose': 0,\n",
    "}"
   ]
  },
  {
   "cell_type": "code",
   "execution_count": null,
   "id": "b0e05b0f",
   "metadata": {},
   "outputs": [],
   "source": [
    "model_config={\"optimization\": \"grid\", \"grid_params\": grid_params, \"fit_params\": fit_params}"
   ]
  },
  {
   "cell_type": "code",
   "execution_count": null,
   "id": "f030374d",
   "metadata": {},
   "outputs": [],
   "source": [
    "# Run the experiment\n",
    "ars_experiment.run(dataset_config=dataset_config, model_config=model_config, find_best_features=True)"
   ]
  }
 ],
 "metadata": {
  "jupytext": {
   "cell_metadata_filter": "-all",
   "main_language": "python",
   "notebook_metadata_filter": "-all"
  },
  "kernelspec": {
   "display_name": ".venv",
   "language": "python",
   "name": "python3"
  },
  "language_info": {
   "name": "python",
   "version": "3.10.12"
  }
 },
 "nbformat": 4,
 "nbformat_minor": 5
}
