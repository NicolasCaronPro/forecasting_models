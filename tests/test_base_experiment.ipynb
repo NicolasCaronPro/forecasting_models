{
 "cells": [
  {
   "cell_type": "code",
   "execution_count": 1,
   "id": "b5bb0984",
   "metadata": {},
   "outputs": [],
   "source": [
    "import os\n",
    "import sys\n",
    "sys.path.insert(0, os.path.abspath(\n",
    "    os.path.join(os.path.dirname('__file__'), '..')))"
   ]
  },
  {
   "cell_type": "code",
   "execution_count": 2,
   "id": "e7ff4915",
   "metadata": {},
   "outputs": [],
   "source": [
    "# %pip install -r ../requirements.txt"
   ]
  },
  {
   "cell_type": "code",
   "execution_count": 3,
   "id": "c264361d",
   "metadata": {},
   "outputs": [],
   "source": [
    "from src.encoding.encoders import *\n",
    "from src.encoding.tools import create_encoding_pipeline\n",
    "from src.models.sklearn_api_model import save_object, Model\n",
    "from src.models.sklearn_api_models_config import get_model\n",
    "from src.datasets.base_tabular_dataset import BaseTabularDataset\n",
    "from src.experiments.base_experiment import BaseExperiment\n",
    "import src.features as ft\n",
    "import logging\n",
    "import pandas as pd\n",
    "import pathlib"
   ]
  },
  {
   "cell_type": "code",
   "execution_count": 4,
   "id": "b0bd56cd",
   "metadata": {},
   "outputs": [],
   "source": [
    "# Define a logger used by all modules\n",
    "logger = logging.getLogger()\n",
    "logger.setLevel(logging.INFO)\n",
    "logging.basicConfig(level=logging.INFO, encoding=\"utf-8\",\n",
    "                    format=\"%(name)s %(asctime)s: %(levelname)s: %(message)s\", handlers=[logging.StreamHandler()])"
   ]
  },
  {
   "cell_type": "code",
   "execution_count": 5,
   "id": "9b0710aa",
   "metadata": {},
   "outputs": [],
   "source": [
    "# Define the root directory of the project\n",
    "root_dir = os.path.abspath(os.path.join(os.path.dirname('__file__'), '..'))\n",
    "root_dir = pathlib.Path(root_dir)"
   ]
  },
  {
   "cell_type": "code",
   "execution_count": 6,
   "id": "611419a1",
   "metadata": {},
   "outputs": [],
   "source": [
    "# Define the configuration for the fetching of the data\n",
    "fetch_config = {\n",
    "    \"data_start\": '01-01-2017',\n",
    "    \"data_stop\": '31-12-2023',\n",
    "    'data_dir': root_dir / 'data',\n",
    "    \"locations\": ['CHU Dijon', 'CHU Besançon', 'CH Beaune', 'CH Semur', 'CH Chatillon Montbard', 'CH Chaumont', 'CH Langres', 'HNFC']\n",
    "    }"
   ]
  },
  {
   "cell_type": "code",
   "execution_count": 7,
   "id": "a951beae",
   "metadata": {},
   "outputs": [],
   "source": [
    "# Select the features to be used in the dataset\n",
    "ars_features_class = [\n",
    "    ft.HospitalFeatures,\n",
    "    # ft.AirQualityFeatures,\n",
    "    # ft.EpidemiologicalFeatures,\n",
    "    # ft.FireFightersFeatures(include_calls=False),\n",
    "    # ft.GoogleTrendFeatures,\n",
    "    # ft.MeteorologicalFeatures,\n",
    "    ft.SociologicalFeatures,\n",
    "    # ft.SportsCompetitionFeatures,\n",
    "    # ft.TrafficFeatures\n",
    "    ]"
   ]
  },
  {
   "cell_type": "code",
   "execution_count": 8,
   "id": "29491d47",
   "metadata": {},
   "outputs": [],
   "source": [
    "# Select the target columns to be predicted\n",
    "target_colomns = ['nb_emmergencies']\n",
    "# target_colomns = ['nb_vers_hospit']\n",
    "# target_colomns = ['nb_hospit_np_adults%%J+1%%mean_7J']"
   ]
  },
  {
   "cell_type": "code",
   "execution_count": 9,
   "id": "07d1313d",
   "metadata": {},
   "outputs": [],
   "source": [
    "# Define an encoding scheme to create the encoding pipeline\n",
    "encoders_dict = {\n",
    "    'number': {\n",
    "        'as_number': {\n",
    "            'imputers': [imputers.SimpleImputer(strategy='mean')],\n",
    "            'encoders': [\n",
    "                ne.StandardScaler(),\n",
    "            ]\n",
    "        }\n",
    "    },\n",
    "    'category': {\n",
    "        'as_category': {\n",
    "            'imputers': [imputers.SimpleImputer(strategy='most_frequent')],\n",
    "            'encoders': [\n",
    "                ne.MultiTargetEncoder(drop_invariant=True, return_df=True),\n",
    "            ]\n",
    "        }\n",
    "    },\n",
    "    'datetime': {\n",
    "        'as_number': {\n",
    "            'imputers': [de.DateFeatureExtractor()],\n",
    "            'encoders': [\n",
    "                ne.CyclicalFeatures(drop_original=True)\n",
    "            ]\n",
    "        },\n",
    "        'as_category': {\n",
    "            'imputers': [de.DateFeatureExtractor(dtype='category')],\n",
    "            'encoders': [\n",
    "                ne.MultiTargetEncoder(drop_invariant=True, return_df=True),\n",
    "            ]\n",
    "        }\n",
    "    },\n",
    "    'boolean': {\n",
    "        'as_number': {\n",
    "            'imputers': [imputers.SimpleImputer(strategy='most_frequent')],\n",
    "             'encoders': [ne.BooleanEncoder()]\n",
    "         }\n",
    "\n",
    "    }\n",
    "}"
   ]
  },
  {
   "cell_type": "code",
   "execution_count": 10,
   "id": "429854cf",
   "metadata": {},
   "outputs": [
    {
     "name": "stdout",
     "output_type": "stream",
     "text": [
      "Creating encoding pipeline\n"
     ]
    }
   ],
   "source": [
    "# Create the encoding pipeline\n",
    "pipeline = create_encoding_pipeline(encoders_dict)"
   ]
  },
  {
   "cell_type": "code",
   "execution_count": 11,
   "id": "3ae03d97",
   "metadata": {},
   "outputs": [
    {
     "data": {
      "text/html": [
       "<style>#sk-container-id-1 {\n",
       "  /* Definition of color scheme common for light and dark mode */\n",
       "  --sklearn-color-text: black;\n",
       "  --sklearn-color-line: gray;\n",
       "  /* Definition of color scheme for unfitted estimators */\n",
       "  --sklearn-color-unfitted-level-0: #fff5e6;\n",
       "  --sklearn-color-unfitted-level-1: #f6e4d2;\n",
       "  --sklearn-color-unfitted-level-2: #ffe0b3;\n",
       "  --sklearn-color-unfitted-level-3: chocolate;\n",
       "  /* Definition of color scheme for fitted estimators */\n",
       "  --sklearn-color-fitted-level-0: #f0f8ff;\n",
       "  --sklearn-color-fitted-level-1: #d4ebff;\n",
       "  --sklearn-color-fitted-level-2: #b3dbfd;\n",
       "  --sklearn-color-fitted-level-3: cornflowerblue;\n",
       "\n",
       "  /* Specific color for light theme */\n",
       "  --sklearn-color-text-on-default-background: var(--sg-text-color, var(--theme-code-foreground, var(--jp-content-font-color1, black)));\n",
       "  --sklearn-color-background: var(--sg-background-color, var(--theme-background, var(--jp-layout-color0, white)));\n",
       "  --sklearn-color-border-box: var(--sg-text-color, var(--theme-code-foreground, var(--jp-content-font-color1, black)));\n",
       "  --sklearn-color-icon: #696969;\n",
       "\n",
       "  @media (prefers-color-scheme: dark) {\n",
       "    /* Redefinition of color scheme for dark theme */\n",
       "    --sklearn-color-text-on-default-background: var(--sg-text-color, var(--theme-code-foreground, var(--jp-content-font-color1, white)));\n",
       "    --sklearn-color-background: var(--sg-background-color, var(--theme-background, var(--jp-layout-color0, #111)));\n",
       "    --sklearn-color-border-box: var(--sg-text-color, var(--theme-code-foreground, var(--jp-content-font-color1, white)));\n",
       "    --sklearn-color-icon: #878787;\n",
       "  }\n",
       "}\n",
       "\n",
       "#sk-container-id-1 {\n",
       "  color: var(--sklearn-color-text);\n",
       "}\n",
       "\n",
       "#sk-container-id-1 pre {\n",
       "  padding: 0;\n",
       "}\n",
       "\n",
       "#sk-container-id-1 input.sk-hidden--visually {\n",
       "  border: 0;\n",
       "  clip: rect(1px 1px 1px 1px);\n",
       "  clip: rect(1px, 1px, 1px, 1px);\n",
       "  height: 1px;\n",
       "  margin: -1px;\n",
       "  overflow: hidden;\n",
       "  padding: 0;\n",
       "  position: absolute;\n",
       "  width: 1px;\n",
       "}\n",
       "\n",
       "#sk-container-id-1 div.sk-dashed-wrapped {\n",
       "  border: 1px dashed var(--sklearn-color-line);\n",
       "  margin: 0 0.4em 0.5em 0.4em;\n",
       "  box-sizing: border-box;\n",
       "  padding-bottom: 0.4em;\n",
       "  background-color: var(--sklearn-color-background);\n",
       "}\n",
       "\n",
       "#sk-container-id-1 div.sk-container {\n",
       "  /* jupyter's `normalize.less` sets `[hidden] { display: none; }`\n",
       "     but bootstrap.min.css set `[hidden] { display: none !important; }`\n",
       "     so we also need the `!important` here to be able to override the\n",
       "     default hidden behavior on the sphinx rendered scikit-learn.org.\n",
       "     See: https://github.com/scikit-learn/scikit-learn/issues/21755 */\n",
       "  display: inline-block !important;\n",
       "  position: relative;\n",
       "}\n",
       "\n",
       "#sk-container-id-1 div.sk-text-repr-fallback {\n",
       "  display: none;\n",
       "}\n",
       "\n",
       "div.sk-parallel-item,\n",
       "div.sk-serial,\n",
       "div.sk-item {\n",
       "  /* draw centered vertical line to link estimators */\n",
       "  background-image: linear-gradient(var(--sklearn-color-text-on-default-background), var(--sklearn-color-text-on-default-background));\n",
       "  background-size: 2px 100%;\n",
       "  background-repeat: no-repeat;\n",
       "  background-position: center center;\n",
       "}\n",
       "\n",
       "/* Parallel-specific style estimator block */\n",
       "\n",
       "#sk-container-id-1 div.sk-parallel-item::after {\n",
       "  content: \"\";\n",
       "  width: 100%;\n",
       "  border-bottom: 2px solid var(--sklearn-color-text-on-default-background);\n",
       "  flex-grow: 1;\n",
       "}\n",
       "\n",
       "#sk-container-id-1 div.sk-parallel {\n",
       "  display: flex;\n",
       "  align-items: stretch;\n",
       "  justify-content: center;\n",
       "  background-color: var(--sklearn-color-background);\n",
       "  position: relative;\n",
       "}\n",
       "\n",
       "#sk-container-id-1 div.sk-parallel-item {\n",
       "  display: flex;\n",
       "  flex-direction: column;\n",
       "}\n",
       "\n",
       "#sk-container-id-1 div.sk-parallel-item:first-child::after {\n",
       "  align-self: flex-end;\n",
       "  width: 50%;\n",
       "}\n",
       "\n",
       "#sk-container-id-1 div.sk-parallel-item:last-child::after {\n",
       "  align-self: flex-start;\n",
       "  width: 50%;\n",
       "}\n",
       "\n",
       "#sk-container-id-1 div.sk-parallel-item:only-child::after {\n",
       "  width: 0;\n",
       "}\n",
       "\n",
       "/* Serial-specific style estimator block */\n",
       "\n",
       "#sk-container-id-1 div.sk-serial {\n",
       "  display: flex;\n",
       "  flex-direction: column;\n",
       "  align-items: center;\n",
       "  background-color: var(--sklearn-color-background);\n",
       "  padding-right: 1em;\n",
       "  padding-left: 1em;\n",
       "}\n",
       "\n",
       "\n",
       "/* Toggleable style: style used for estimator/Pipeline/ColumnTransformer box that is\n",
       "clickable and can be expanded/collapsed.\n",
       "- Pipeline and ColumnTransformer use this feature and define the default style\n",
       "- Estimators will overwrite some part of the style using the `sk-estimator` class\n",
       "*/\n",
       "\n",
       "/* Pipeline and ColumnTransformer style (default) */\n",
       "\n",
       "#sk-container-id-1 div.sk-toggleable {\n",
       "  /* Default theme specific background. It is overwritten whether we have a\n",
       "  specific estimator or a Pipeline/ColumnTransformer */\n",
       "  background-color: var(--sklearn-color-background);\n",
       "}\n",
       "\n",
       "/* Toggleable label */\n",
       "#sk-container-id-1 label.sk-toggleable__label {\n",
       "  cursor: pointer;\n",
       "  display: block;\n",
       "  width: 100%;\n",
       "  margin-bottom: 0;\n",
       "  padding: 0.5em;\n",
       "  box-sizing: border-box;\n",
       "  text-align: center;\n",
       "}\n",
       "\n",
       "#sk-container-id-1 label.sk-toggleable__label-arrow:before {\n",
       "  /* Arrow on the left of the label */\n",
       "  content: \"▸\";\n",
       "  float: left;\n",
       "  margin-right: 0.25em;\n",
       "  color: var(--sklearn-color-icon);\n",
       "}\n",
       "\n",
       "#sk-container-id-1 label.sk-toggleable__label-arrow:hover:before {\n",
       "  color: var(--sklearn-color-text);\n",
       "}\n",
       "\n",
       "/* Toggleable content - dropdown */\n",
       "\n",
       "#sk-container-id-1 div.sk-toggleable__content {\n",
       "  max-height: 0;\n",
       "  max-width: 0;\n",
       "  overflow: hidden;\n",
       "  text-align: left;\n",
       "  /* unfitted */\n",
       "  background-color: var(--sklearn-color-unfitted-level-0);\n",
       "}\n",
       "\n",
       "#sk-container-id-1 div.sk-toggleable__content.fitted {\n",
       "  /* fitted */\n",
       "  background-color: var(--sklearn-color-fitted-level-0);\n",
       "}\n",
       "\n",
       "#sk-container-id-1 div.sk-toggleable__content pre {\n",
       "  margin: 0.2em;\n",
       "  border-radius: 0.25em;\n",
       "  color: var(--sklearn-color-text);\n",
       "  /* unfitted */\n",
       "  background-color: var(--sklearn-color-unfitted-level-0);\n",
       "}\n",
       "\n",
       "#sk-container-id-1 div.sk-toggleable__content.fitted pre {\n",
       "  /* unfitted */\n",
       "  background-color: var(--sklearn-color-fitted-level-0);\n",
       "}\n",
       "\n",
       "#sk-container-id-1 input.sk-toggleable__control:checked~div.sk-toggleable__content {\n",
       "  /* Expand drop-down */\n",
       "  max-height: 200px;\n",
       "  max-width: 100%;\n",
       "  overflow: auto;\n",
       "}\n",
       "\n",
       "#sk-container-id-1 input.sk-toggleable__control:checked~label.sk-toggleable__label-arrow:before {\n",
       "  content: \"▾\";\n",
       "}\n",
       "\n",
       "/* Pipeline/ColumnTransformer-specific style */\n",
       "\n",
       "#sk-container-id-1 div.sk-label input.sk-toggleable__control:checked~label.sk-toggleable__label {\n",
       "  color: var(--sklearn-color-text);\n",
       "  background-color: var(--sklearn-color-unfitted-level-2);\n",
       "}\n",
       "\n",
       "#sk-container-id-1 div.sk-label.fitted input.sk-toggleable__control:checked~label.sk-toggleable__label {\n",
       "  background-color: var(--sklearn-color-fitted-level-2);\n",
       "}\n",
       "\n",
       "/* Estimator-specific style */\n",
       "\n",
       "/* Colorize estimator box */\n",
       "#sk-container-id-1 div.sk-estimator input.sk-toggleable__control:checked~label.sk-toggleable__label {\n",
       "  /* unfitted */\n",
       "  background-color: var(--sklearn-color-unfitted-level-2);\n",
       "}\n",
       "\n",
       "#sk-container-id-1 div.sk-estimator.fitted input.sk-toggleable__control:checked~label.sk-toggleable__label {\n",
       "  /* fitted */\n",
       "  background-color: var(--sklearn-color-fitted-level-2);\n",
       "}\n",
       "\n",
       "#sk-container-id-1 div.sk-label label.sk-toggleable__label,\n",
       "#sk-container-id-1 div.sk-label label {\n",
       "  /* The background is the default theme color */\n",
       "  color: var(--sklearn-color-text-on-default-background);\n",
       "}\n",
       "\n",
       "/* On hover, darken the color of the background */\n",
       "#sk-container-id-1 div.sk-label:hover label.sk-toggleable__label {\n",
       "  color: var(--sklearn-color-text);\n",
       "  background-color: var(--sklearn-color-unfitted-level-2);\n",
       "}\n",
       "\n",
       "/* Label box, darken color on hover, fitted */\n",
       "#sk-container-id-1 div.sk-label.fitted:hover label.sk-toggleable__label.fitted {\n",
       "  color: var(--sklearn-color-text);\n",
       "  background-color: var(--sklearn-color-fitted-level-2);\n",
       "}\n",
       "\n",
       "/* Estimator label */\n",
       "\n",
       "#sk-container-id-1 div.sk-label label {\n",
       "  font-family: monospace;\n",
       "  font-weight: bold;\n",
       "  display: inline-block;\n",
       "  line-height: 1.2em;\n",
       "}\n",
       "\n",
       "#sk-container-id-1 div.sk-label-container {\n",
       "  text-align: center;\n",
       "}\n",
       "\n",
       "/* Estimator-specific */\n",
       "#sk-container-id-1 div.sk-estimator {\n",
       "  font-family: monospace;\n",
       "  border: 1px dotted var(--sklearn-color-border-box);\n",
       "  border-radius: 0.25em;\n",
       "  box-sizing: border-box;\n",
       "  margin-bottom: 0.5em;\n",
       "  /* unfitted */\n",
       "  background-color: var(--sklearn-color-unfitted-level-0);\n",
       "}\n",
       "\n",
       "#sk-container-id-1 div.sk-estimator.fitted {\n",
       "  /* fitted */\n",
       "  background-color: var(--sklearn-color-fitted-level-0);\n",
       "}\n",
       "\n",
       "/* on hover */\n",
       "#sk-container-id-1 div.sk-estimator:hover {\n",
       "  /* unfitted */\n",
       "  background-color: var(--sklearn-color-unfitted-level-2);\n",
       "}\n",
       "\n",
       "#sk-container-id-1 div.sk-estimator.fitted:hover {\n",
       "  /* fitted */\n",
       "  background-color: var(--sklearn-color-fitted-level-2);\n",
       "}\n",
       "\n",
       "/* Specification for estimator info (e.g. \"i\" and \"?\") */\n",
       "\n",
       "/* Common style for \"i\" and \"?\" */\n",
       "\n",
       ".sk-estimator-doc-link,\n",
       "a:link.sk-estimator-doc-link,\n",
       "a:visited.sk-estimator-doc-link {\n",
       "  float: right;\n",
       "  font-size: smaller;\n",
       "  line-height: 1em;\n",
       "  font-family: monospace;\n",
       "  background-color: var(--sklearn-color-background);\n",
       "  border-radius: 1em;\n",
       "  height: 1em;\n",
       "  width: 1em;\n",
       "  text-decoration: none !important;\n",
       "  margin-left: 1ex;\n",
       "  /* unfitted */\n",
       "  border: var(--sklearn-color-unfitted-level-1) 1pt solid;\n",
       "  color: var(--sklearn-color-unfitted-level-1);\n",
       "}\n",
       "\n",
       ".sk-estimator-doc-link.fitted,\n",
       "a:link.sk-estimator-doc-link.fitted,\n",
       "a:visited.sk-estimator-doc-link.fitted {\n",
       "  /* fitted */\n",
       "  border: var(--sklearn-color-fitted-level-1) 1pt solid;\n",
       "  color: var(--sklearn-color-fitted-level-1);\n",
       "}\n",
       "\n",
       "/* On hover */\n",
       "div.sk-estimator:hover .sk-estimator-doc-link:hover,\n",
       ".sk-estimator-doc-link:hover,\n",
       "div.sk-label-container:hover .sk-estimator-doc-link:hover,\n",
       ".sk-estimator-doc-link:hover {\n",
       "  /* unfitted */\n",
       "  background-color: var(--sklearn-color-unfitted-level-3);\n",
       "  color: var(--sklearn-color-background);\n",
       "  text-decoration: none;\n",
       "}\n",
       "\n",
       "div.sk-estimator.fitted:hover .sk-estimator-doc-link.fitted:hover,\n",
       ".sk-estimator-doc-link.fitted:hover,\n",
       "div.sk-label-container:hover .sk-estimator-doc-link.fitted:hover,\n",
       ".sk-estimator-doc-link.fitted:hover {\n",
       "  /* fitted */\n",
       "  background-color: var(--sklearn-color-fitted-level-3);\n",
       "  color: var(--sklearn-color-background);\n",
       "  text-decoration: none;\n",
       "}\n",
       "\n",
       "/* Span, style for the box shown on hovering the info icon */\n",
       ".sk-estimator-doc-link span {\n",
       "  display: none;\n",
       "  z-index: 9999;\n",
       "  position: relative;\n",
       "  font-weight: normal;\n",
       "  right: .2ex;\n",
       "  padding: .5ex;\n",
       "  margin: .5ex;\n",
       "  width: min-content;\n",
       "  min-width: 20ex;\n",
       "  max-width: 50ex;\n",
       "  color: var(--sklearn-color-text);\n",
       "  box-shadow: 2pt 2pt 4pt #999;\n",
       "  /* unfitted */\n",
       "  background: var(--sklearn-color-unfitted-level-0);\n",
       "  border: .5pt solid var(--sklearn-color-unfitted-level-3);\n",
       "}\n",
       "\n",
       ".sk-estimator-doc-link.fitted span {\n",
       "  /* fitted */\n",
       "  background: var(--sklearn-color-fitted-level-0);\n",
       "  border: var(--sklearn-color-fitted-level-3);\n",
       "}\n",
       "\n",
       ".sk-estimator-doc-link:hover span {\n",
       "  display: block;\n",
       "}\n",
       "\n",
       "/* \"?\"-specific style due to the `<a>` HTML tag */\n",
       "\n",
       "#sk-container-id-1 a.estimator_doc_link {\n",
       "  float: right;\n",
       "  font-size: 1rem;\n",
       "  line-height: 1em;\n",
       "  font-family: monospace;\n",
       "  background-color: var(--sklearn-color-background);\n",
       "  border-radius: 1rem;\n",
       "  height: 1rem;\n",
       "  width: 1rem;\n",
       "  text-decoration: none;\n",
       "  /* unfitted */\n",
       "  color: var(--sklearn-color-unfitted-level-1);\n",
       "  border: var(--sklearn-color-unfitted-level-1) 1pt solid;\n",
       "}\n",
       "\n",
       "#sk-container-id-1 a.estimator_doc_link.fitted {\n",
       "  /* fitted */\n",
       "  border: var(--sklearn-color-fitted-level-1) 1pt solid;\n",
       "  color: var(--sklearn-color-fitted-level-1);\n",
       "}\n",
       "\n",
       "/* On hover */\n",
       "#sk-container-id-1 a.estimator_doc_link:hover {\n",
       "  /* unfitted */\n",
       "  background-color: var(--sklearn-color-unfitted-level-3);\n",
       "  color: var(--sklearn-color-background);\n",
       "  text-decoration: none;\n",
       "}\n",
       "\n",
       "#sk-container-id-1 a.estimator_doc_link.fitted:hover {\n",
       "  /* fitted */\n",
       "  background-color: var(--sklearn-color-fitted-level-3);\n",
       "}\n",
       "</style><div id=\"sk-container-id-1\" class=\"sk-top-container\"><div class=\"sk-text-repr-fallback\"><pre>ColumnTransformer(remainder=&#x27;passthrough&#x27;,\n",
       "                  transformers=[(&#x27;pipeline-1&#x27;,\n",
       "                                 Pipeline(steps=[(&#x27;featureunion-1&#x27;,\n",
       "                                                  FeatureUnion(transformer_list=[(&#x27;simpleimputer&#x27;,\n",
       "                                                                                  SimpleImputer())])),\n",
       "                                                 (&#x27;featureunion-2&#x27;,\n",
       "                                                  FeatureUnion(transformer_list=[(&#x27;standardscaler&#x27;,\n",
       "                                                                                  StandardScaler())]))]),\n",
       "                                 &lt;sklearn.compose._column_transformer.make_column_selector object at 0x7fe88a057d00&gt;),\n",
       "                                (&#x27;pipe...\n",
       "                                 &lt;sklearn.compose._column_transformer.make_column_selector object at 0x7fe88a0578b0&gt;),\n",
       "                                (&#x27;pipeline-5&#x27;,\n",
       "                                 Pipeline(steps=[(&#x27;featureunion-1&#x27;,\n",
       "                                                  FeatureUnion(transformer_list=[(&#x27;simpleimputer&#x27;,\n",
       "                                                                                  SimpleImputer(strategy=&#x27;most_frequent&#x27;))])),\n",
       "                                                 (&#x27;featureunion-2&#x27;,\n",
       "                                                  FeatureUnion(transformer_list=[(&#x27;booleanencoder&#x27;,\n",
       "                                                                                  BooleanEncoder())]))]),\n",
       "                                 &lt;sklearn.compose._column_transformer.make_column_selector object at 0x7fe88a0574c0&gt;)],\n",
       "                  verbose=True)</pre><b>In a Jupyter environment, please rerun this cell to show the HTML representation or trust the notebook. <br />On GitHub, the HTML representation is unable to render, please try loading this page with nbviewer.org.</b></div><div class=\"sk-container\" hidden><div class=\"sk-item sk-dashed-wrapped\"><div class=\"sk-label-container\"><div class=\"sk-label  sk-toggleable\"><input class=\"sk-toggleable__control sk-hidden--visually\" id=\"sk-estimator-id-1\" type=\"checkbox\" ><label for=\"sk-estimator-id-1\" class=\"sk-toggleable__label  sk-toggleable__label-arrow \">&nbsp;&nbsp;ColumnTransformer<a class=\"sk-estimator-doc-link \" rel=\"noreferrer\" target=\"_blank\" href=\"https://scikit-learn.org/1.4/modules/generated/sklearn.compose.ColumnTransformer.html\">?<span>Documentation for ColumnTransformer</span></a><span class=\"sk-estimator-doc-link \">i<span>Not fitted</span></span></label><div class=\"sk-toggleable__content \"><pre>ColumnTransformer(remainder=&#x27;passthrough&#x27;,\n",
       "                  transformers=[(&#x27;pipeline-1&#x27;,\n",
       "                                 Pipeline(steps=[(&#x27;featureunion-1&#x27;,\n",
       "                                                  FeatureUnion(transformer_list=[(&#x27;simpleimputer&#x27;,\n",
       "                                                                                  SimpleImputer())])),\n",
       "                                                 (&#x27;featureunion-2&#x27;,\n",
       "                                                  FeatureUnion(transformer_list=[(&#x27;standardscaler&#x27;,\n",
       "                                                                                  StandardScaler())]))]),\n",
       "                                 &lt;sklearn.compose._column_transformer.make_column_selector object at 0x7fe88a057d00&gt;),\n",
       "                                (&#x27;pipe...\n",
       "                                 &lt;sklearn.compose._column_transformer.make_column_selector object at 0x7fe88a0578b0&gt;),\n",
       "                                (&#x27;pipeline-5&#x27;,\n",
       "                                 Pipeline(steps=[(&#x27;featureunion-1&#x27;,\n",
       "                                                  FeatureUnion(transformer_list=[(&#x27;simpleimputer&#x27;,\n",
       "                                                                                  SimpleImputer(strategy=&#x27;most_frequent&#x27;))])),\n",
       "                                                 (&#x27;featureunion-2&#x27;,\n",
       "                                                  FeatureUnion(transformer_list=[(&#x27;booleanencoder&#x27;,\n",
       "                                                                                  BooleanEncoder())]))]),\n",
       "                                 &lt;sklearn.compose._column_transformer.make_column_selector object at 0x7fe88a0574c0&gt;)],\n",
       "                  verbose=True)</pre></div> </div></div><div class=\"sk-parallel\"><div class=\"sk-parallel-item\"><div class=\"sk-item\"><div class=\"sk-label-container\"><div class=\"sk-label  sk-toggleable\"><input class=\"sk-toggleable__control sk-hidden--visually\" id=\"sk-estimator-id-2\" type=\"checkbox\" ><label for=\"sk-estimator-id-2\" class=\"sk-toggleable__label  sk-toggleable__label-arrow \">pipeline-1</label><div class=\"sk-toggleable__content \"><pre>&lt;sklearn.compose._column_transformer.make_column_selector object at 0x7fe88a057d00&gt;</pre></div> </div></div><div class=\"sk-serial\"><div class=\"sk-item\"><div class=\"sk-serial\"><div class=\"sk-item sk-dashed-wrapped\"><div class=\"sk-label-container\"><div class=\"sk-label  sk-toggleable\"><input class=\"sk-toggleable__control sk-hidden--visually\" id=\"sk-estimator-id-3\" type=\"checkbox\" ><label for=\"sk-estimator-id-3\" class=\"sk-toggleable__label  sk-toggleable__label-arrow \">&nbsp;featureunion-1: FeatureUnion<a class=\"sk-estimator-doc-link \" rel=\"noreferrer\" target=\"_blank\" href=\"https://scikit-learn.org/1.4/modules/generated/sklearn.pipeline.FeatureUnion.html\">?<span>Documentation for featureunion-1: FeatureUnion</span></a></label><div class=\"sk-toggleable__content \"><pre>FeatureUnion(transformer_list=[(&#x27;simpleimputer&#x27;, SimpleImputer())])</pre></div> </div></div><div class=\"sk-parallel\"><div class=\"sk-parallel-item\"><div class=\"sk-item\"><div class=\"sk-label-container\"><div class=\"sk-label  sk-toggleable\"><label>simpleimputer</label></div></div><div class=\"sk-serial\"><div class=\"sk-item\"><div class=\"sk-estimator  sk-toggleable\"><input class=\"sk-toggleable__control sk-hidden--visually\" id=\"sk-estimator-id-4\" type=\"checkbox\" ><label for=\"sk-estimator-id-4\" class=\"sk-toggleable__label  sk-toggleable__label-arrow \">&nbsp;SimpleImputer<a class=\"sk-estimator-doc-link \" rel=\"noreferrer\" target=\"_blank\" href=\"https://scikit-learn.org/1.4/modules/generated/sklearn.impute.SimpleImputer.html\">?<span>Documentation for SimpleImputer</span></a></label><div class=\"sk-toggleable__content \"><pre>SimpleImputer()</pre></div> </div></div></div></div></div></div></div><div class=\"sk-item sk-dashed-wrapped\"><div class=\"sk-label-container\"><div class=\"sk-label  sk-toggleable\"><input class=\"sk-toggleable__control sk-hidden--visually\" id=\"sk-estimator-id-5\" type=\"checkbox\" ><label for=\"sk-estimator-id-5\" class=\"sk-toggleable__label  sk-toggleable__label-arrow \">&nbsp;featureunion-2: FeatureUnion<a class=\"sk-estimator-doc-link \" rel=\"noreferrer\" target=\"_blank\" href=\"https://scikit-learn.org/1.4/modules/generated/sklearn.pipeline.FeatureUnion.html\">?<span>Documentation for featureunion-2: FeatureUnion</span></a></label><div class=\"sk-toggleable__content \"><pre>FeatureUnion(transformer_list=[(&#x27;standardscaler&#x27;, StandardScaler())])</pre></div> </div></div><div class=\"sk-parallel\"><div class=\"sk-parallel-item\"><div class=\"sk-item\"><div class=\"sk-label-container\"><div class=\"sk-label  sk-toggleable\"><label>standardscaler</label></div></div><div class=\"sk-serial\"><div class=\"sk-item\"><div class=\"sk-estimator  sk-toggleable\"><input class=\"sk-toggleable__control sk-hidden--visually\" id=\"sk-estimator-id-6\" type=\"checkbox\" ><label for=\"sk-estimator-id-6\" class=\"sk-toggleable__label  sk-toggleable__label-arrow \">&nbsp;StandardScaler<a class=\"sk-estimator-doc-link \" rel=\"noreferrer\" target=\"_blank\" href=\"https://scikit-learn.org/1.4/modules/generated/sklearn.preprocessing.StandardScaler.html\">?<span>Documentation for StandardScaler</span></a></label><div class=\"sk-toggleable__content \"><pre>StandardScaler()</pre></div> </div></div></div></div></div></div></div></div></div></div></div></div><div class=\"sk-parallel-item\"><div class=\"sk-item\"><div class=\"sk-label-container\"><div class=\"sk-label  sk-toggleable\"><input class=\"sk-toggleable__control sk-hidden--visually\" id=\"sk-estimator-id-7\" type=\"checkbox\" ><label for=\"sk-estimator-id-7\" class=\"sk-toggleable__label  sk-toggleable__label-arrow \">pipeline-2</label><div class=\"sk-toggleable__content \"><pre>&lt;sklearn.compose._column_transformer.make_column_selector object at 0x7fe88a057f70&gt;</pre></div> </div></div><div class=\"sk-serial\"><div class=\"sk-item\"><div class=\"sk-serial\"><div class=\"sk-item sk-dashed-wrapped\"><div class=\"sk-label-container\"><div class=\"sk-label  sk-toggleable\"><input class=\"sk-toggleable__control sk-hidden--visually\" id=\"sk-estimator-id-8\" type=\"checkbox\" ><label for=\"sk-estimator-id-8\" class=\"sk-toggleable__label  sk-toggleable__label-arrow \">&nbsp;featureunion-1: FeatureUnion<a class=\"sk-estimator-doc-link \" rel=\"noreferrer\" target=\"_blank\" href=\"https://scikit-learn.org/1.4/modules/generated/sklearn.pipeline.FeatureUnion.html\">?<span>Documentation for featureunion-1: FeatureUnion</span></a></label><div class=\"sk-toggleable__content \"><pre>FeatureUnion(transformer_list=[(&#x27;simpleimputer&#x27;,\n",
       "                                SimpleImputer(strategy=&#x27;most_frequent&#x27;))])</pre></div> </div></div><div class=\"sk-parallel\"><div class=\"sk-parallel-item\"><div class=\"sk-item\"><div class=\"sk-label-container\"><div class=\"sk-label  sk-toggleable\"><label>simpleimputer</label></div></div><div class=\"sk-serial\"><div class=\"sk-item\"><div class=\"sk-estimator  sk-toggleable\"><input class=\"sk-toggleable__control sk-hidden--visually\" id=\"sk-estimator-id-9\" type=\"checkbox\" ><label for=\"sk-estimator-id-9\" class=\"sk-toggleable__label  sk-toggleable__label-arrow \">&nbsp;SimpleImputer<a class=\"sk-estimator-doc-link \" rel=\"noreferrer\" target=\"_blank\" href=\"https://scikit-learn.org/1.4/modules/generated/sklearn.impute.SimpleImputer.html\">?<span>Documentation for SimpleImputer</span></a></label><div class=\"sk-toggleable__content \"><pre>SimpleImputer(strategy=&#x27;most_frequent&#x27;)</pre></div> </div></div></div></div></div></div></div><div class=\"sk-item sk-dashed-wrapped\"><div class=\"sk-label-container\"><div class=\"sk-label  sk-toggleable\"><input class=\"sk-toggleable__control sk-hidden--visually\" id=\"sk-estimator-id-10\" type=\"checkbox\" ><label for=\"sk-estimator-id-10\" class=\"sk-toggleable__label  sk-toggleable__label-arrow \">&nbsp;featureunion-2: FeatureUnion<a class=\"sk-estimator-doc-link \" rel=\"noreferrer\" target=\"_blank\" href=\"https://scikit-learn.org/1.4/modules/generated/sklearn.pipeline.FeatureUnion.html\">?<span>Documentation for featureunion-2: FeatureUnion</span></a></label><div class=\"sk-toggleable__content \"><pre>FeatureUnion(transformer_list=[(&#x27;multitargetencoder&#x27;,\n",
       "                                MultiTargetEncoder(drop_invariant=True))])</pre></div> </div></div><div class=\"sk-parallel\"><div class=\"sk-parallel-item\"><div class=\"sk-item\"><div class=\"sk-label-container\"><div class=\"sk-label  sk-toggleable\"><label>multitargetencoder</label></div></div><div class=\"sk-serial\"><div class=\"sk-item\"><div class=\"sk-estimator  sk-toggleable\"><input class=\"sk-toggleable__control sk-hidden--visually\" id=\"sk-estimator-id-11\" type=\"checkbox\" ><label for=\"sk-estimator-id-11\" class=\"sk-toggleable__label  sk-toggleable__label-arrow \">MultiTargetEncoder</label><div class=\"sk-toggleable__content \"><pre>MultiTargetEncoder(drop_invariant=True)</pre></div> </div></div></div></div></div></div></div></div></div></div></div></div><div class=\"sk-parallel-item\"><div class=\"sk-item\"><div class=\"sk-label-container\"><div class=\"sk-label  sk-toggleable\"><input class=\"sk-toggleable__control sk-hidden--visually\" id=\"sk-estimator-id-12\" type=\"checkbox\" ><label for=\"sk-estimator-id-12\" class=\"sk-toggleable__label  sk-toggleable__label-arrow \">pipeline-3</label><div class=\"sk-toggleable__content \"><pre>&lt;sklearn.compose._column_transformer.make_column_selector object at 0x7fe88a0579d0&gt;</pre></div> </div></div><div class=\"sk-serial\"><div class=\"sk-item\"><div class=\"sk-serial\"><div class=\"sk-item sk-dashed-wrapped\"><div class=\"sk-label-container\"><div class=\"sk-label  sk-toggleable\"><input class=\"sk-toggleable__control sk-hidden--visually\" id=\"sk-estimator-id-13\" type=\"checkbox\" ><label for=\"sk-estimator-id-13\" class=\"sk-toggleable__label  sk-toggleable__label-arrow \">&nbsp;featureunion-1: FeatureUnion<a class=\"sk-estimator-doc-link \" rel=\"noreferrer\" target=\"_blank\" href=\"https://scikit-learn.org/1.4/modules/generated/sklearn.pipeline.FeatureUnion.html\">?<span>Documentation for featureunion-1: FeatureUnion</span></a></label><div class=\"sk-toggleable__content \"><pre>FeatureUnion(transformer_list=[(&#x27;datefeatureextractor&#x27;,\n",
       "                                DateFeatureExtractor())])</pre></div> </div></div><div class=\"sk-parallel\"><div class=\"sk-parallel-item\"><div class=\"sk-item\"><div class=\"sk-label-container\"><div class=\"sk-label  sk-toggleable\"><label>datefeatureextractor</label></div></div><div class=\"sk-serial\"><div class=\"sk-item\"><div class=\"sk-estimator  sk-toggleable\"><input class=\"sk-toggleable__control sk-hidden--visually\" id=\"sk-estimator-id-14\" type=\"checkbox\" ><label for=\"sk-estimator-id-14\" class=\"sk-toggleable__label  sk-toggleable__label-arrow \">DateFeatureExtractor</label><div class=\"sk-toggleable__content \"><pre>DateFeatureExtractor()</pre></div> </div></div></div></div></div></div></div><div class=\"sk-item sk-dashed-wrapped\"><div class=\"sk-label-container\"><div class=\"sk-label  sk-toggleable\"><input class=\"sk-toggleable__control sk-hidden--visually\" id=\"sk-estimator-id-15\" type=\"checkbox\" ><label for=\"sk-estimator-id-15\" class=\"sk-toggleable__label  sk-toggleable__label-arrow \">&nbsp;featureunion-2: FeatureUnion<a class=\"sk-estimator-doc-link \" rel=\"noreferrer\" target=\"_blank\" href=\"https://scikit-learn.org/1.4/modules/generated/sklearn.pipeline.FeatureUnion.html\">?<span>Documentation for featureunion-2: FeatureUnion</span></a></label><div class=\"sk-toggleable__content \"><pre>FeatureUnion(transformer_list=[(&#x27;cyclicalfeatures&#x27;,\n",
       "                                CyclicalFeatures(drop_original=True))])</pre></div> </div></div><div class=\"sk-parallel\"><div class=\"sk-parallel-item\"><div class=\"sk-item\"><div class=\"sk-label-container\"><div class=\"sk-label  sk-toggleable\"><label>cyclicalfeatures</label></div></div><div class=\"sk-serial\"><div class=\"sk-item\"><div class=\"sk-estimator  sk-toggleable\"><input class=\"sk-toggleable__control sk-hidden--visually\" id=\"sk-estimator-id-16\" type=\"checkbox\" ><label for=\"sk-estimator-id-16\" class=\"sk-toggleable__label  sk-toggleable__label-arrow \">CyclicalFeatures</label><div class=\"sk-toggleable__content \"><pre>CyclicalFeatures(drop_original=True)</pre></div> </div></div></div></div></div></div></div></div></div></div></div></div><div class=\"sk-parallel-item\"><div class=\"sk-item\"><div class=\"sk-label-container\"><div class=\"sk-label  sk-toggleable\"><input class=\"sk-toggleable__control sk-hidden--visually\" id=\"sk-estimator-id-17\" type=\"checkbox\" ><label for=\"sk-estimator-id-17\" class=\"sk-toggleable__label  sk-toggleable__label-arrow \">pipeline-4</label><div class=\"sk-toggleable__content \"><pre>&lt;sklearn.compose._column_transformer.make_column_selector object at 0x7fe88a0578b0&gt;</pre></div> </div></div><div class=\"sk-serial\"><div class=\"sk-item\"><div class=\"sk-serial\"><div class=\"sk-item sk-dashed-wrapped\"><div class=\"sk-label-container\"><div class=\"sk-label  sk-toggleable\"><input class=\"sk-toggleable__control sk-hidden--visually\" id=\"sk-estimator-id-18\" type=\"checkbox\" ><label for=\"sk-estimator-id-18\" class=\"sk-toggleable__label  sk-toggleable__label-arrow \">&nbsp;featureunion-1: FeatureUnion<a class=\"sk-estimator-doc-link \" rel=\"noreferrer\" target=\"_blank\" href=\"https://scikit-learn.org/1.4/modules/generated/sklearn.pipeline.FeatureUnion.html\">?<span>Documentation for featureunion-1: FeatureUnion</span></a></label><div class=\"sk-toggleable__content \"><pre>FeatureUnion(transformer_list=[(&#x27;datefeatureextractor&#x27;,\n",
       "                                DateFeatureExtractor(dtype=&#x27;category&#x27;))])</pre></div> </div></div><div class=\"sk-parallel\"><div class=\"sk-parallel-item\"><div class=\"sk-item\"><div class=\"sk-label-container\"><div class=\"sk-label  sk-toggleable\"><label>datefeatureextractor</label></div></div><div class=\"sk-serial\"><div class=\"sk-item\"><div class=\"sk-estimator  sk-toggleable\"><input class=\"sk-toggleable__control sk-hidden--visually\" id=\"sk-estimator-id-19\" type=\"checkbox\" ><label for=\"sk-estimator-id-19\" class=\"sk-toggleable__label  sk-toggleable__label-arrow \">DateFeatureExtractor</label><div class=\"sk-toggleable__content \"><pre>DateFeatureExtractor(dtype=&#x27;category&#x27;)</pre></div> </div></div></div></div></div></div></div><div class=\"sk-item sk-dashed-wrapped\"><div class=\"sk-label-container\"><div class=\"sk-label  sk-toggleable\"><input class=\"sk-toggleable__control sk-hidden--visually\" id=\"sk-estimator-id-20\" type=\"checkbox\" ><label for=\"sk-estimator-id-20\" class=\"sk-toggleable__label  sk-toggleable__label-arrow \">&nbsp;featureunion-2: FeatureUnion<a class=\"sk-estimator-doc-link \" rel=\"noreferrer\" target=\"_blank\" href=\"https://scikit-learn.org/1.4/modules/generated/sklearn.pipeline.FeatureUnion.html\">?<span>Documentation for featureunion-2: FeatureUnion</span></a></label><div class=\"sk-toggleable__content \"><pre>FeatureUnion(transformer_list=[(&#x27;multitargetencoder&#x27;,\n",
       "                                MultiTargetEncoder(drop_invariant=True))])</pre></div> </div></div><div class=\"sk-parallel\"><div class=\"sk-parallel-item\"><div class=\"sk-item\"><div class=\"sk-label-container\"><div class=\"sk-label  sk-toggleable\"><label>multitargetencoder</label></div></div><div class=\"sk-serial\"><div class=\"sk-item\"><div class=\"sk-estimator  sk-toggleable\"><input class=\"sk-toggleable__control sk-hidden--visually\" id=\"sk-estimator-id-21\" type=\"checkbox\" ><label for=\"sk-estimator-id-21\" class=\"sk-toggleable__label  sk-toggleable__label-arrow \">MultiTargetEncoder</label><div class=\"sk-toggleable__content \"><pre>MultiTargetEncoder(drop_invariant=True)</pre></div> </div></div></div></div></div></div></div></div></div></div></div></div><div class=\"sk-parallel-item\"><div class=\"sk-item\"><div class=\"sk-label-container\"><div class=\"sk-label  sk-toggleable\"><input class=\"sk-toggleable__control sk-hidden--visually\" id=\"sk-estimator-id-22\" type=\"checkbox\" ><label for=\"sk-estimator-id-22\" class=\"sk-toggleable__label  sk-toggleable__label-arrow \">pipeline-5</label><div class=\"sk-toggleable__content \"><pre>&lt;sklearn.compose._column_transformer.make_column_selector object at 0x7fe88a0574c0&gt;</pre></div> </div></div><div class=\"sk-serial\"><div class=\"sk-item\"><div class=\"sk-serial\"><div class=\"sk-item sk-dashed-wrapped\"><div class=\"sk-label-container\"><div class=\"sk-label  sk-toggleable\"><input class=\"sk-toggleable__control sk-hidden--visually\" id=\"sk-estimator-id-23\" type=\"checkbox\" ><label for=\"sk-estimator-id-23\" class=\"sk-toggleable__label  sk-toggleable__label-arrow \">&nbsp;featureunion-1: FeatureUnion<a class=\"sk-estimator-doc-link \" rel=\"noreferrer\" target=\"_blank\" href=\"https://scikit-learn.org/1.4/modules/generated/sklearn.pipeline.FeatureUnion.html\">?<span>Documentation for featureunion-1: FeatureUnion</span></a></label><div class=\"sk-toggleable__content \"><pre>FeatureUnion(transformer_list=[(&#x27;simpleimputer&#x27;,\n",
       "                                SimpleImputer(strategy=&#x27;most_frequent&#x27;))])</pre></div> </div></div><div class=\"sk-parallel\"><div class=\"sk-parallel-item\"><div class=\"sk-item\"><div class=\"sk-label-container\"><div class=\"sk-label  sk-toggleable\"><label>simpleimputer</label></div></div><div class=\"sk-serial\"><div class=\"sk-item\"><div class=\"sk-estimator  sk-toggleable\"><input class=\"sk-toggleable__control sk-hidden--visually\" id=\"sk-estimator-id-24\" type=\"checkbox\" ><label for=\"sk-estimator-id-24\" class=\"sk-toggleable__label  sk-toggleable__label-arrow \">&nbsp;SimpleImputer<a class=\"sk-estimator-doc-link \" rel=\"noreferrer\" target=\"_blank\" href=\"https://scikit-learn.org/1.4/modules/generated/sklearn.impute.SimpleImputer.html\">?<span>Documentation for SimpleImputer</span></a></label><div class=\"sk-toggleable__content \"><pre>SimpleImputer(strategy=&#x27;most_frequent&#x27;)</pre></div> </div></div></div></div></div></div></div><div class=\"sk-item sk-dashed-wrapped\"><div class=\"sk-label-container\"><div class=\"sk-label  sk-toggleable\"><input class=\"sk-toggleable__control sk-hidden--visually\" id=\"sk-estimator-id-25\" type=\"checkbox\" ><label for=\"sk-estimator-id-25\" class=\"sk-toggleable__label  sk-toggleable__label-arrow \">&nbsp;featureunion-2: FeatureUnion<a class=\"sk-estimator-doc-link \" rel=\"noreferrer\" target=\"_blank\" href=\"https://scikit-learn.org/1.4/modules/generated/sklearn.pipeline.FeatureUnion.html\">?<span>Documentation for featureunion-2: FeatureUnion</span></a></label><div class=\"sk-toggleable__content \"><pre>FeatureUnion(transformer_list=[(&#x27;booleanencoder&#x27;, BooleanEncoder())])</pre></div> </div></div><div class=\"sk-parallel\"><div class=\"sk-parallel-item\"><div class=\"sk-item\"><div class=\"sk-label-container\"><div class=\"sk-label  sk-toggleable\"><label>booleanencoder</label></div></div><div class=\"sk-serial\"><div class=\"sk-item\"><div class=\"sk-estimator  sk-toggleable\"><input class=\"sk-toggleable__control sk-hidden--visually\" id=\"sk-estimator-id-26\" type=\"checkbox\" ><label for=\"sk-estimator-id-26\" class=\"sk-toggleable__label  sk-toggleable__label-arrow \">BooleanEncoder</label><div class=\"sk-toggleable__content \"><pre>BooleanEncoder()</pre></div> </div></div></div></div></div></div></div></div></div></div></div></div><div class=\"sk-parallel-item\"><div class=\"sk-item\"><div class=\"sk-label-container\"><div class=\"sk-label  sk-toggleable\"><input class=\"sk-toggleable__control sk-hidden--visually\" id=\"sk-estimator-id-27\" type=\"checkbox\" ><label for=\"sk-estimator-id-27\" class=\"sk-toggleable__label  sk-toggleable__label-arrow \">remainder</label><div class=\"sk-toggleable__content \"><pre></pre></div> </div></div><div class=\"sk-serial\"><div class=\"sk-item\"><div class=\"sk-estimator  sk-toggleable\"><input class=\"sk-toggleable__control sk-hidden--visually\" id=\"sk-estimator-id-28\" type=\"checkbox\" ><label for=\"sk-estimator-id-28\" class=\"sk-toggleable__label  sk-toggleable__label-arrow \">passthrough</label><div class=\"sk-toggleable__content \"><pre>passthrough</pre></div> </div></div></div></div></div></div></div></div></div>"
      ],
      "text/plain": [
       "ColumnTransformer(remainder='passthrough',\n",
       "                  transformers=[('pipeline-1',\n",
       "                                 Pipeline(steps=[('featureunion-1',\n",
       "                                                  FeatureUnion(transformer_list=[('simpleimputer',\n",
       "                                                                                  SimpleImputer())])),\n",
       "                                                 ('featureunion-2',\n",
       "                                                  FeatureUnion(transformer_list=[('standardscaler',\n",
       "                                                                                  StandardScaler())]))]),\n",
       "                                 <sklearn.compose._column_transformer.make_column_selector object at 0x7fe88a057d00>),\n",
       "                                ('pipe...\n",
       "                                 <sklearn.compose._column_transformer.make_column_selector object at 0x7fe88a0578b0>),\n",
       "                                ('pipeline-5',\n",
       "                                 Pipeline(steps=[('featureunion-1',\n",
       "                                                  FeatureUnion(transformer_list=[('simpleimputer',\n",
       "                                                                                  SimpleImputer(strategy='most_frequent'))])),\n",
       "                                                 ('featureunion-2',\n",
       "                                                  FeatureUnion(transformer_list=[('booleanencoder',\n",
       "                                                                                  BooleanEncoder())]))]),\n",
       "                                 <sklearn.compose._column_transformer.make_column_selector object at 0x7fe88a0574c0>)],\n",
       "                  verbose=True)"
      ]
     },
     "execution_count": 11,
     "metadata": {},
     "output_type": "execute_result"
    }
   ],
   "source": [
    "pipeline"
   ]
  },
  {
   "cell_type": "code",
   "execution_count": 12,
   "id": "ba191270",
   "metadata": {},
   "outputs": [],
   "source": [
    "# Define the splitting scheme to create the sets\n",
    "split_config = {'test_size': 0.2, 'val_size': 0.2, 'shuffle': False}"
   ]
  },
  {
   "cell_type": "code",
   "execution_count": 13,
   "id": "5fc269fa",
   "metadata": {},
   "outputs": [],
   "source": [
    "features_config_get = {}"
   ]
  },
  {
   "cell_type": "code",
   "execution_count": 14,
   "id": "ac07eadd",
   "metadata": {},
   "outputs": [],
   "source": [
    "# Define the configuration of the dataset\n",
    "dataset_config = {\n",
    "    'from_date': '01-01-2019',\n",
    "    'to_date': '30-12-2023',\n",
    "    'locations': ['CHU Dijon', 'CHU Besançon', 'CH Beaune', 'CH Semur', 'CH Chatillon Montbard'],\n",
    "    'axis': 'columns',\n",
    "    'shift': range(1, 7, 1),\n",
    "    'rolling_window': [14, 31, 365],\n",
    "    'freq': '1D',\n",
    "    'split_config': split_config,\n",
    "    'create_X_y': True,\n",
    "    'encoding_pipeline': pipeline,\n",
    "    'targets_names': target_colomns,\n",
    "    'targets_shift': -3,\n",
    "    'targets_rolling_window': 3,\n",
    "    'targets_history_shifts': range(7, 14, 1),\n",
    "    'targets_history_rolling_windows': [7, 14, 31, 365],\n",
    "    'targets_locations': ['CHU Dijon'],\n",
    "    'drop_constant_thr':0.65,\n",
    "    'data_dir': root_dir / 'data'\n",
    "    }"
   ]
  },
  {
   "cell_type": "code",
   "execution_count": 15,
   "id": "ba1312a8",
   "metadata": {},
   "outputs": [
    {
     "name": "stderr",
     "output_type": "stream",
     "text": [
      "root 2024-10-30 15:19:44,516: INFO: Initialisation de la classe BaseTabularDataset\n",
      "root 2024-10-30 15:19:44,520: INFO: Initialisation des features\n",
      "root 2024-10-30 15:19:44,521: INFO: Fetching data for hospitalfeatures at CHU Dijon\n",
      "root 2024-10-30 15:19:44,821: INFO: Fetching data for hospitalfeatures at CHU Besançon\n",
      "root 2024-10-30 15:19:45,152: INFO: Fetching data for hospitalfeatures at CH Beaune\n",
      "root 2024-10-30 15:19:45,506: INFO: Fetching data for hospitalfeatures at CH Semur\n",
      "root 2024-10-30 15:19:45,847: INFO: Fetching data for hospitalfeatures at CH Chatillon Montbard\n",
      "root 2024-10-30 15:19:46,160: INFO: Fetching data for hospitalfeatures at CH Chaumont\n",
      "root 2024-10-30 15:19:46,484: INFO: Fetching data for hospitalfeatures at CH Langres\n",
      "root 2024-10-30 15:19:46,871: INFO: Fetching data for hospitalfeatures at HNFC\n",
      "root 2024-10-30 15:19:47,196: INFO: Fetching data for sociologicalfeatures at CHU Dijon\n",
      "root 2024-10-30 15:19:47,513: INFO: Fetching data for sociologicalfeatures at CHU Besançon\n",
      "root 2024-10-30 15:19:47,838: INFO: Fetching data for sociologicalfeatures at CH Beaune\n",
      "root 2024-10-30 15:19:48,173: INFO: Fetching data for sociologicalfeatures at CH Semur\n",
      "root 2024-10-30 15:19:48,507: INFO: Fetching data for sociologicalfeatures at CH Chatillon Montbard\n",
      "root 2024-10-30 15:19:48,832: INFO: Fetching data for sociologicalfeatures at CH Chaumont\n",
      "root 2024-10-30 15:19:49,167: INFO: Fetching data for sociologicalfeatures at CH Langres\n",
      "root 2024-10-30 15:19:49,519: INFO: Fetching data for sociologicalfeatures at HNFC\n",
      "root 2024-10-30 15:19:51,832: INFO: Getting the dataset from 01-01-2019 to 30-12-2023 for [<src.location.location.Location object at 0x7fe88a054eb0>, <src.location.location.Location object at 0x7fe9797af940>, <src.location.location.Location object at 0x7fe88a056860>, <src.location.location.Location object at 0x7fe88a056a70>, <src.location.location.Location object at 0x7fe88a0563b0>]\n",
      "root 2024-10-30 15:19:52,175: INFO: Getting data for hospitalfeatures from 2019-01-01 00:00:00 to 2023-12-30 00:00:00, at a 1D frequency\n",
      "root 2024-10-30 15:19:52,182: INFO: Augmentation des features...\n",
      "root 2024-10-30 15:19:52,195: INFO: Getting data for sociologicalfeatures from 2019-01-01 00:00:00 to 2023-12-30 00:00:00, at a 1D frequency\n",
      "root 2024-10-30 15:19:52,200: INFO: Augmentation des features...\n",
      "root 2024-10-30 15:19:52,235: INFO: Getting data for hospitalfeatures from 2019-01-01 00:00:00 to 2023-12-30 00:00:00, at a 1D frequency\n",
      "root 2024-10-30 15:19:52,240: INFO: Augmentation des features...\n",
      "root 2024-10-30 15:19:52,251: INFO: Getting data for sociologicalfeatures from 2019-01-01 00:00:00 to 2023-12-30 00:00:00, at a 1D frequency\n",
      "root 2024-10-30 15:19:52,256: INFO: Augmentation des features...\n",
      "root 2024-10-30 15:19:52,289: INFO: Getting data for hospitalfeatures from 2019-01-01 00:00:00 to 2023-12-30 00:00:00, at a 1D frequency\n",
      "root 2024-10-30 15:19:52,292: INFO: Augmentation des features...\n",
      "root 2024-10-30 15:19:52,299: INFO: Getting data for sociologicalfeatures from 2019-01-01 00:00:00 to 2023-12-30 00:00:00, at a 1D frequency\n",
      "root 2024-10-30 15:19:52,304: INFO: Augmentation des features...\n",
      "root 2024-10-30 15:19:52,335: INFO: Getting data for hospitalfeatures from 2019-01-01 00:00:00 to 2023-12-30 00:00:00, at a 1D frequency\n",
      "root 2024-10-30 15:19:52,339: INFO: Augmentation des features...\n",
      "root 2024-10-30 15:19:52,345: INFO: Getting data for sociologicalfeatures from 2019-01-01 00:00:00 to 2023-12-30 00:00:00, at a 1D frequency\n",
      "root 2024-10-30 15:19:52,350: INFO: Augmentation des features...\n",
      "root 2024-10-30 15:19:52,382: INFO: Getting data for hospitalfeatures from 2019-01-01 00:00:00 to 2023-12-30 00:00:00, at a 1D frequency\n"
     ]
    },
    {
     "name": "stdout",
     "output_type": "stream",
     "text": [
      "Dropped columns with zero variance: []\n",
      "Dropped columns with zero variance: []\n",
      "Dropped columns with zero variance: []\n",
      "Dropped columns with zero variance: []\n",
      "Dropped columns with zero variance: []\n",
      "Dropped columns with zero variance: []\n",
      "Dropped columns with zero variance: []\n",
      "Dropped columns with zero variance: []\n"
     ]
    },
    {
     "name": "stderr",
     "output_type": "stream",
     "text": [
      "root 2024-10-30 15:19:52,385: INFO: Augmentation des features...\n",
      "root 2024-10-30 15:19:52,391: INFO: Getting data for sociologicalfeatures from 2019-01-01 00:00:00 to 2023-12-30 00:00:00, at a 1D frequency\n",
      "root 2024-10-30 15:19:52,396: INFO: Augmentation des features...\n",
      "root 2024-10-30 15:19:52,439: INFO: Creating the target columns as a rolling mean of nb_emmergencies_CHU Dijon on 3 rows shifted by -3\n",
      "root 2024-10-30 15:19:52,441: INFO: Creating target history columns...\n",
      "root 2024-10-30 15:19:52,444: INFO: Rolling windows will start from 6 samples before to n days before this starting sample\n",
      "root 2024-10-30 15:19:52,489: INFO: Calculating train/val/test sets and encodings...\n"
     ]
    },
    {
     "name": "stdout",
     "output_type": "stream",
     "text": [
      "Dropped columns with zero variance: []\n",
      "Dropped columns with zero variance: []\n",
      "Dropped 0 constant columns from both sets: []\n",
      "X shape: (1162, 491), y shape: (1162, 1)\n",
      "[ColumnTransformer] .... (1 of 3) Processing pipeline-3, total=   0.0s\n",
      "[ColumnTransformer] .... (2 of 3) Processing pipeline-4, total=   0.0s\n",
      "[ColumnTransformer] .... (3 of 3) Processing pipeline-5, total=   0.1s\n",
      "Index(['nb_emmergencies_CHU Dijon', 'nb_emmergencies%%J-1_CHU Dijon',\n",
      "       'nb_emmergencies%%J-2_CHU Dijon', 'nb_emmergencies%%J-3_CHU Dijon',\n",
      "       'nb_emmergencies%%J-4_CHU Dijon', 'nb_emmergencies%%J-5_CHU Dijon',\n",
      "       'nb_emmergencies%%J-6_CHU Dijon', 'nb_emmergencies%%mean_14J_CHU Dijon',\n",
      "       'nb_emmergencies%%std_14J_CHU Dijon',\n",
      "       'nb_emmergencies%%mean_31J_CHU Dijon',\n",
      "       'nb_emmergencies%%std_31J_CHU Dijon',\n",
      "       'nb_emmergencies%%mean_365J_CHU Dijon',\n",
      "       'nb_emmergencies%%std_365J_CHU Dijon', 'nb_emmergencies_CHU Besançon',\n",
      "       'nb_emmergencies%%J-1_CHU Besançon',\n",
      "       'nb_emmergencies%%J-2_CHU Besançon',\n",
      "       'nb_emmergencies%%J-3_CHU Besançon',\n",
      "       'nb_emmergencies%%J-4_CHU Besançon',\n",
      "       'nb_emmergencies%%J-5_CHU Besançon',\n",
      "       'nb_emmergencies%%J-6_CHU Besançon',\n",
      "       'nb_emmergencies%%mean_14J_CHU Besançon',\n",
      "       'nb_emmergencies%%std_14J_CHU Besançon',\n",
      "       'nb_emmergencies%%mean_31J_CHU Besançon',\n",
      "       'nb_emmergencies%%std_31J_CHU Besançon',\n",
      "       'nb_emmergencies%%mean_365J_CHU Besançon',\n",
      "       'nb_emmergencies%%std_365J_CHU Besançon', 'nb_emmergencies_CH Beaune',\n",
      "       'nb_emmergencies%%J-1_CH Beaune', 'nb_emmergencies%%J-2_CH Beaune',\n",
      "       'nb_emmergencies%%J-3_CH Beaune', 'nb_emmergencies%%J-4_CH Beaune',\n",
      "       'nb_emmergencies%%J-5_CH Beaune', 'nb_emmergencies%%J-6_CH Beaune',\n",
      "       'nb_emmergencies%%mean_14J_CH Beaune',\n",
      "       'nb_emmergencies%%std_14J_CH Beaune',\n",
      "       'nb_emmergencies%%mean_31J_CH Beaune',\n",
      "       'nb_emmergencies%%std_31J_CH Beaune',\n",
      "       'nb_emmergencies%%mean_365J_CH Beaune',\n",
      "       'nb_emmergencies%%std_365J_CH Beaune', 'nb_emmergencies_CH Semur',\n",
      "       'nb_emmergencies%%J-1_CH Semur', 'nb_emmergencies%%J-2_CH Semur',\n",
      "       'nb_emmergencies%%J-3_CH Semur', 'nb_emmergencies%%J-4_CH Semur',\n",
      "       'nb_emmergencies%%J-5_CH Semur', 'nb_emmergencies%%J-6_CH Semur',\n",
      "       'nb_emmergencies%%mean_14J_CH Semur',\n",
      "       'nb_emmergencies%%std_14J_CH Semur',\n",
      "       'nb_emmergencies%%mean_31J_CH Semur',\n",
      "       'nb_emmergencies%%std_31J_CH Semur',\n",
      "       'nb_emmergencies%%mean_365J_CH Semur',\n",
      "       'nb_emmergencies%%std_365J_CH Semur',\n",
      "       'nb_emmergencies_CH Chatillon Montbard',\n",
      "       'nb_emmergencies%%J-1_CH Chatillon Montbard',\n",
      "       'nb_emmergencies%%J-2_CH Chatillon Montbard',\n",
      "       'nb_emmergencies%%J-3_CH Chatillon Montbard',\n",
      "       'nb_emmergencies%%J-4_CH Chatillon Montbard',\n",
      "       'nb_emmergencies%%J-5_CH Chatillon Montbard',\n",
      "       'nb_emmergencies%%J-6_CH Chatillon Montbard',\n",
      "       'nb_emmergencies%%mean_14J_CH Chatillon Montbard',\n",
      "       'nb_emmergencies%%std_14J_CH Chatillon Montbard',\n",
      "       'nb_emmergencies%%mean_31J_CH Chatillon Montbard',\n",
      "       'nb_emmergencies%%std_31J_CH Chatillon Montbard',\n",
      "       'nb_emmergencies%%mean_365J_CH Chatillon Montbard',\n",
      "       'nb_emmergencies%%std_365J_CH Chatillon Montbard',\n",
      "       'target_nb_emmergencies_CHU Dijon%%J+3%%mean_3J%%J-7',\n",
      "       'target_nb_emmergencies_CHU Dijon%%J+3%%mean_3J%%J-8',\n",
      "       'target_nb_emmergencies_CHU Dijon%%J+3%%mean_3J%%J-9',\n",
      "       'target_nb_emmergencies_CHU Dijon%%J+3%%mean_3J%%J-10',\n",
      "       'target_nb_emmergencies_CHU Dijon%%J+3%%mean_3J%%J-11',\n",
      "       'target_nb_emmergencies_CHU Dijon%%J+3%%mean_3J%%J-12',\n",
      "       'target_nb_emmergencies_CHU Dijon%%J+3%%mean_3J%%J-13',\n",
      "       'target_nb_emmergencies_CHU Dijon%%J+3%%mean_3J%%mean_7J%%J-6',\n",
      "       'target_nb_emmergencies_CHU Dijon%%J+3%%mean_3J%%std7J%%J-6',\n",
      "       'target_nb_emmergencies_CHU Dijon%%J+3%%mean_3J%%mean_14J%%J-6',\n",
      "       'target_nb_emmergencies_CHU Dijon%%J+3%%mean_3J%%std14J%%J-6',\n",
      "       'target_nb_emmergencies_CHU Dijon%%J+3%%mean_3J%%mean_31J%%J-6',\n",
      "       'target_nb_emmergencies_CHU Dijon%%J+3%%mean_3J%%std31J%%J-6',\n",
      "       'target_nb_emmergencies_CHU Dijon%%J+3%%mean_3J%%mean_365J%%J-6',\n",
      "       'target_nb_emmergencies_CHU Dijon%%J+3%%mean_3J%%std365J%%J-6'],\n",
      "      dtype='object')\n"
     ]
    }
   ],
   "source": [
    "# Create the dataset and fetch the data from the source then call get_dataset() method to fill the different attributes (X and y) of the different sets, and their encodings\n",
    "arsTabularDataset = BaseTabularDataset(features_classes=ars_features_class, logger=logger, fetch_config=fetch_config, getter_config=dataset_config)"
   ]
  },
  {
   "cell_type": "code",
   "execution_count": 16,
   "id": "c29da147",
   "metadata": {},
   "outputs": [
    {
     "name": "stdout",
     "output_type": "stream",
     "text": [
      "Colonnes contenant des NaN: []\n"
     ]
    },
    {
     "data": {
      "text/plain": [
       "{}"
      ]
     },
     "execution_count": 16,
     "metadata": {},
     "output_type": "execute_result"
    }
   ],
   "source": [
    "df = arsTabularDataset.enc_data\n",
    "\n",
    "# Identifie les colonnes contenant des NaN\n",
    "cols_with_nan = df.columns[df.isna().any()].tolist()\n",
    "print(\"Colonnes contenant des NaN:\", cols_with_nan)\n",
    "\n",
    "# Affiche la liste des index des lignes contenant des NaN pour chaque colonne\n",
    "nan_indices = {col: df[df[col].isna()].index.tolist() for col in cols_with_nan}\n",
    "nan_indices"
   ]
  },
  {
   "cell_type": "code",
   "execution_count": 17,
   "id": "ee42c36f",
   "metadata": {},
   "outputs": [],
   "source": [
    "# print(arsTabularDataset.data.columns.to_list())\n",
    "# Define the model parameters\n",
    "model_params = {\n",
    "    'early_stopping_rounds': 10,\n",
    "    # 'eval_set': [(arsTabularDataset.enc_X_val, arsTabularDataset.y_val)], # TODO: to be set in the experiment's run method\n",
    "    'verbosity': 0,\n",
    "    'n_estimators': 10000,\n",
    "    'learning_rate': 0.1,\n",
    "    'min_child_weight': 5,\n",
    "    # 'multi_strategy': 'one_output_per_tree',\n",
    "    # 'multi_strategy': 'multi_output_tree' \n",
    "}"
   ]
  },
  {
   "cell_type": "code",
   "execution_count": 18,
   "id": "fbf1d5e7",
   "metadata": {},
   "outputs": [],
   "source": [
    "metrics = ['w_rmse', 'pw_rmse', 'rmse', 'mae', 'mse'] # first one is used for evaluation and everywhere a sinlge metric is used, the rest are used for testing"
   ]
  },
  {
   "cell_type": "code",
   "execution_count": 19,
   "id": "52e1d716",
   "metadata": {},
   "outputs": [],
   "source": [
    "# Create the model\n",
    "model = get_model(model_type='xgboost', name='XGBoost', device='cuda', task_type='regression', test_metrics=metrics, params=model_params)"
   ]
  },
  {
   "cell_type": "code",
   "execution_count": 20,
   "id": "a6e243fb",
   "metadata": {},
   "outputs": [],
   "source": [
    "# Create the experiment\n",
    "ars_experiment = BaseExperiment(logger=logger, dataset=arsTabularDataset, model=model)"
   ]
  },
  {
   "cell_type": "code",
   "execution_count": 21,
   "id": "66c8a7d9",
   "metadata": {},
   "outputs": [],
   "source": [
    "# Set the model fitting config\n",
    "grid_params = {\n",
    "    'max_depth': [3, 5, 7, 9, 11],\n",
    "}"
   ]
  },
  {
   "cell_type": "code",
   "execution_count": 22,
   "id": "86be32d2",
   "metadata": {},
   "outputs": [],
   "source": [
    "fit_params = {\n",
    "    'verbose': 0,\n",
    "}"
   ]
  },
  {
   "cell_type": "code",
   "execution_count": 23,
   "id": "f7c25cb9",
   "metadata": {},
   "outputs": [],
   "source": [
    "model_config={\"optimization\": \"grid\", \"grid_params\": grid_params, \"fit_params\": fit_params}"
   ]
  },
  {
   "cell_type": "code",
   "execution_count": 24,
   "id": "526a570b",
   "metadata": {},
   "outputs": [
    {
     "name": "stderr",
     "output_type": "stream",
     "text": [
      "2024/10/30 15:19:53 INFO mlflow.system_metrics.system_metrics_monitor: Started monitoring system metrics.\n",
      "root 2024-10-30 15:19:53,496: INFO: Running the experiment...\n",
      "root 2024-10-30 15:19:53,513: INFO: => Recherche des 68 features les + pertinentes\n",
      "root 2024-10-30 15:19:53,514: INFO:    - Grande variance\n",
      "root 2024-10-30 15:19:53,525: INFO:    - Coefficient de corrélation de Pearson\n",
      "RuntimeWarning: invalid value encountered in divide\n",
      "RuntimeWarning: invalid value encountered in divide\n",
      "root 2024-10-30 15:19:53,718: INFO:    - Coefficient de corrélation de Kendall\n",
      "root 2024-10-30 15:19:54,112: INFO:    - Coefficient de corrélation de Spearman\n",
      "root 2024-10-30 15:19:54,340: INFO:    - Random forests\n",
      "root 2024-10-30 15:19:54,853: INFO:    - Régression linéaire\n",
      "root 2024-10-30 15:19:54,962: INFO: [  0   1   4   6   8   9  10  17  22  24  29  31  65  66  67  71  73  99\n",
      " 111 120 127 129 163 164 165 169 171 197 209 218 225 227 261 262 263 267\n",
      " 269 295 307 316 323 325 359 360 361 365 367 393 405 414 416 421 423 457\n",
      " 458 459 463 465 491 503 517 519 520 559 571 572 586 587]\n",
      "root 2024-10-30 15:19:54,963: INFO:    - Extra trees\n",
      "root 2024-10-30 15:19:55,243: INFO:    - XGBoost\n",
      "root 2024-10-30 15:19:58,560: INFO:    - LightGBM\n",
      "UserWarning: Found `num_iterations` in params. Will use it instead of argument\n",
      "root 2024-10-30 15:19:58,875: INFO:    - Lasso\n"
     ]
    },
    {
     "name": "stdout",
     "output_type": "stream",
     "text": [
      "Fitting estimator with 588 features.\n"
     ]
    },
    {
     "name": "stderr",
     "output_type": "stream",
     "text": [
      "ConvergenceWarning: Objective did not converge. You might want to increase the number of iterations, check the scale of the features or consider increasing regularisation. Duality gap: 1.230e+05, tolerance: 1.815e+02\n"
     ]
    },
    {
     "name": "stdout",
     "output_type": "stream",
     "text": [
      "Fitting estimator with 488 features.\n"
     ]
    },
    {
     "name": "stderr",
     "output_type": "stream",
     "text": [
      "ConvergenceWarning: Objective did not converge. You might want to increase the number of iterations, check the scale of the features or consider increasing regularisation. Duality gap: 1.230e+05, tolerance: 1.815e+02\n",
      "ConvergenceWarning: Objective did not converge. You might want to increase the number of iterations, check the scale of the features or consider increasing regularisation. Duality gap: 1.230e+05, tolerance: 1.815e+02\n"
     ]
    },
    {
     "name": "stdout",
     "output_type": "stream",
     "text": [
      "Fitting estimator with 388 features.\n",
      "Fitting estimator with 288 features.\n"
     ]
    },
    {
     "name": "stderr",
     "output_type": "stream",
     "text": [
      "ConvergenceWarning: Objective did not converge. You might want to increase the number of iterations, check the scale of the features or consider increasing regularisation. Duality gap: 1.231e+05, tolerance: 1.815e+02\n",
      "ConvergenceWarning: Objective did not converge. You might want to increase the number of iterations, check the scale of the features or consider increasing regularisation. Duality gap: 1.231e+05, tolerance: 1.815e+02\n"
     ]
    },
    {
     "name": "stdout",
     "output_type": "stream",
     "text": [
      "Fitting estimator with 188 features.\n",
      "Fitting estimator with 88 features.\n"
     ]
    },
    {
     "name": "stderr",
     "output_type": "stream",
     "text": [
      "ConvergenceWarning: Objective did not converge. You might want to increase the number of iterations, check the scale of the features or consider increasing regularisation. Duality gap: 1.212e+05, tolerance: 1.815e+02\n",
      "ConvergenceWarning: Objective did not converge. You might want to increase the number of iterations, check the scale of the features or consider increasing regularisation. Duality gap: 1.172e+05, tolerance: 1.815e+02\n",
      "root 2024-10-30 15:20:00,128: INFO: => Exploration des features\n",
      "root 2024-10-30 15:20:00,680: INFO: ['w_rmse', 'pw_rmse', 'rmse', 'mae', 'mse'] With target_nb_emmergencies_CHU Dijon%%J+3%%mean_3J%%J-13 number 0: inf -> 28.076930269018288\n",
      "('mae', 14.94172605577406)\t('mse', 395.7161568700243)\t('rmse', 19.892615636713646)\t('w_rmse', 28.076930269018288)\t('pw_rmse', 30.05964574146093)\n",
      "root 2024-10-30 15:20:00,975: INFO: ['w_rmse', 'pw_rmse', 'rmse', 'mae', 'mse'] With nb_emmergencies%%J-1_CHU Dijon number 1: 28.076930269018288 -> 23.73170201646884\n",
      "('mae', 12.55736587859772)\t('mse', 269.9480679818816)\t('rmse', 16.43009640817368)\t('w_rmse', 23.73170201646884)\t('pw_rmse', 23.99363923107913)\n",
      "root 2024-10-30 15:20:01,742: INFO: ['w_rmse', 'pw_rmse', 'rmse', 'mae', 'mse'] With target_nb_emmergencies_CHU Dijon%%J+3%%mean_3J%%J-7 number 3: 23.73170201646884 -> 23.094654099324533\n",
      "('mae', 12.38187274304065)\t('mse', 258.0687715097787)\t('rmse', 16.06451902516159)\t('w_rmse', 23.094654099324533)\t('pw_rmse', 24.39058081338146)\n",
      "root 2024-10-30 15:20:02,171: INFO: ['w_rmse', 'pw_rmse', 'rmse', 'mae', 'mse'] With nb_emmergencies%%std_365J_CH Semur number 4: 23.094654099324533 -> 20.733402420846183\n",
      "('mae', 11.443362616794012)\t('mse', 203.6427597160625)\t('rmse', 14.27034546589754)\t('w_rmse', 20.733402420846183)\t('pw_rmse', 18.93567308159617)\n",
      "root 2024-10-30 15:20:05,025: INFO: ['w_rmse', 'pw_rmse', 'rmse', 'mae', 'mse'] With nb_emmergencies%%J-2_CHU Dijon number 10: 20.733402420846183 -> 20.71071714975501\n",
      "('mae', 11.435821966373878)\t('mse', 203.59977828929766)\t('rmse', 14.268839416339986)\t('w_rmse', 20.71071714975501)\t('pw_rmse', 19.037445148514134)\n",
      "root 2024-10-30 15:20:12,902: INFO: ['w_rmse', 'pw_rmse', 'rmse', 'mae', 'mse'] With nb_emmergencies%%mean_14J_CH Semur number 25: 20.71071714975501 -> 19.431806533971844\n",
      "('mae', 10.44320309817136)\t('mse', 169.11890892869076)\t('rmse', 13.004572616148936)\t('w_rmse', 19.431806533971844)\t('pw_rmse', 18.866707235287283)\n",
      "root 2024-10-30 15:20:16,673: INFO: ['w_rmse', 'pw_rmse', 'rmse', 'mae', 'mse'] With nb_emmergencies%%std_365J_CH Beaune number 31: 19.431806533971844 -> 19.348870445255567\n",
      "('mae', 10.135514395577568)\t('mse', 159.7017902637323)\t('rmse', 12.637317368165299)\t('w_rmse', 19.348870445255567)\t('pw_rmse', 22.01659484725464)\n",
      "root 2024-10-30 15:20:18,124: INFO: ['w_rmse', 'pw_rmse', 'rmse', 'mae', 'mse'] With nb_emmergencies%%std_365J_CHU Besançon number 33: 19.348870445255567 -> 19.153102757187526\n",
      "('mae', 10.128697196205893)\t('mse', 161.73207817769398)\t('rmse', 12.717392742920774)\t('w_rmse', 19.153102757187526)\t('pw_rmse', 20.803235055958783)\n",
      "root 2024-10-30 15:20:22,206: INFO: ['w_rmse', 'pw_rmse', 'rmse', 'mae', 'mse'] With date##dayofweek##cat##target_nb_emmergencies_CHU Dijon%%J+3%%mean_3J number 38: 19.153102757187526 -> 18.351778042828872\n",
      "('mae', 9.887764843392285)\t('mse', 151.05499062909342)\t('rmse', 12.29044306073192)\t('w_rmse', 18.351778042828872)\t('pw_rmse', 19.75914310182373)\n",
      "root 2024-10-30 15:20:32,489: INFO: ['w_rmse', 'pw_rmse', 'rmse', 'mae', 'mse'] With nb_emmergencies%%std_14J_CH Semur number 56: 18.351778042828872 -> 18.14513031074945\n",
      "('mae', 9.544548789223471)\t('mse', 144.963043220836)\t('rmse', 12.040059934270925)\t('w_rmse', 18.14513031074945)\t('pw_rmse', 19.631218657532372)\n",
      "root 2024-10-30 15:20:36,411: INFO: ['w_rmse', 'pw_rmse', 'rmse', 'mae', 'mse'] With nb_emmergencies_CH Semur number 63: 18.14513031074945 -> 18.085373477871862\n",
      "('mae', 9.492695204067578)\t('mse', 143.68574884513598)\t('rmse', 11.986899050427345)\t('w_rmse', 18.085373477871862)\t('pw_rmse', 19.120008233353943)\n",
      "root 2024-10-30 15:20:37,014: INFO: ['w_rmse', 'pw_rmse', 'rmse', 'mae', 'mse'] With nb_emmergencies%%J-5_CHU Dijon number 64: 18.085373477871862 -> 18.071475038351522\n",
      "('mae', 9.494341755961324)\t('mse', 141.28641937956894)\t('rmse', 11.886396400068817)\t('w_rmse', 18.071475038351522)\t('pw_rmse', 18.754548677356148)\n",
      "root 2024-10-30 15:20:37,827: INFO: ['w_rmse', 'pw_rmse', 'rmse', 'mae', 'mse'] With nb_emmergencies%%J-1_CH Beaune number 65: 18.071475038351522 -> 17.935799798356804\n",
      "('mae', 9.454732929830586)\t('mse', 140.6992241092929)\t('rmse', 11.861670376017575)\t('w_rmse', 17.935799798356804)\t('pw_rmse', 19.24621108806382)\n",
      "root 2024-10-30 15:20:38,744: INFO: Features selected: ['target_nb_emmergencies_CHU Dijon%%J+3%%mean_3J%%J-13', 'nb_emmergencies%%J-1_CHU Dijon', 'target_nb_emmergencies_CHU Dijon%%J+3%%mean_3J%%J-7', 'nb_emmergencies%%std_365J_CH Semur', 'nb_emmergencies%%J-2_CHU Dijon', 'nb_emmergencies%%mean_14J_CH Semur', 'nb_emmergencies%%std_365J_CH Beaune', 'nb_emmergencies%%std_365J_CHU Besançon', 'date##dayofweek##cat##target_nb_emmergencies_CHU Dijon%%J+3%%mean_3J', 'nb_emmergencies%%std_14J_CH Semur', 'nb_emmergencies_CH Semur', 'nb_emmergencies%%J-5_CHU Dijon', 'nb_emmergencies%%J-1_CH Beaune']\n",
      "root 2024-10-30 15:20:38,745: INFO: Getting the dataset from 01-01-2019 to 30-12-2023 for [<src.location.location.Location object at 0x7fe88a054eb0>, <src.location.location.Location object at 0x7fe9797af940>, <src.location.location.Location object at 0x7fe88a056860>, <src.location.location.Location object at 0x7fe88a056a70>, <src.location.location.Location object at 0x7fe88a0563b0>]\n",
      "root 2024-10-30 15:20:38,746: INFO: Getting data for hospitalfeatures from 2019-01-01 00:00:00 to 2023-12-30 00:00:00, at a 1D frequency\n",
      "root 2024-10-30 15:20:38,753: INFO: Augmentation des features...\n",
      "root 2024-10-30 15:20:38,765: INFO: Getting data for sociologicalfeatures from 2019-01-01 00:00:00 to 2023-12-30 00:00:00, at a 1D frequency\n",
      "root 2024-10-30 15:20:38,775: INFO: Augmentation des features...\n",
      "root 2024-10-30 15:20:38,808: INFO: Getting data for hospitalfeatures from 2019-01-01 00:00:00 to 2023-12-30 00:00:00, at a 1D frequency\n",
      "root 2024-10-30 15:20:38,812: INFO: Augmentation des features...\n",
      "root 2024-10-30 15:20:38,817: INFO: Getting data for sociologicalfeatures from 2019-01-01 00:00:00 to 2023-12-30 00:00:00, at a 1D frequency\n",
      "root 2024-10-30 15:20:38,822: INFO: Augmentation des features...\n",
      "root 2024-10-30 15:20:38,854: INFO: Getting data for hospitalfeatures from 2019-01-01 00:00:00 to 2023-12-30 00:00:00, at a 1D frequency\n",
      "root 2024-10-30 15:20:38,858: INFO: Augmentation des features...\n",
      "root 2024-10-30 15:20:38,864: INFO: Getting data for sociologicalfeatures from 2019-01-01 00:00:00 to 2023-12-30 00:00:00, at a 1D frequency\n",
      "root 2024-10-30 15:20:38,871: INFO: Augmentation des features...\n",
      "root 2024-10-30 15:20:38,902: INFO: Getting data for hospitalfeatures from 2019-01-01 00:00:00 to 2023-12-30 00:00:00, at a 1D frequency\n",
      "root 2024-10-30 15:20:38,906: INFO: Augmentation des features...\n",
      "root 2024-10-30 15:20:38,912: INFO: Getting data for sociologicalfeatures from 2019-01-01 00:00:00 to 2023-12-30 00:00:00, at a 1D frequency\n",
      "root 2024-10-30 15:20:38,917: INFO: Augmentation des features...\n",
      "root 2024-10-30 15:20:38,948: INFO: Getting data for hospitalfeatures from 2019-01-01 00:00:00 to 2023-12-30 00:00:00, at a 1D frequency\n"
     ]
    },
    {
     "name": "stdout",
     "output_type": "stream",
     "text": [
      "Dropped columns with zero variance: []\n",
      "Dropped columns with zero variance: []\n",
      "Dropped columns with zero variance: []\n",
      "Dropped columns with zero variance: []\n",
      "Dropped columns with zero variance: []\n",
      "Dropped columns with zero variance: []\n",
      "Dropped columns with zero variance: []\n",
      "Dropped columns with zero variance: []\n",
      "Dropped columns with zero variance: []\n"
     ]
    },
    {
     "name": "stderr",
     "output_type": "stream",
     "text": [
      "root 2024-10-30 15:20:38,951: INFO: Augmentation des features...\n",
      "root 2024-10-30 15:20:38,958: INFO: Getting data for sociologicalfeatures from 2019-01-01 00:00:00 to 2023-12-30 00:00:00, at a 1D frequency\n",
      "root 2024-10-30 15:20:38,964: INFO: Augmentation des features...\n",
      "root 2024-10-30 15:20:39,047: INFO: Creating the target columns as a rolling mean of nb_emmergencies_CHU Dijon on 3 rows shifted by -3\n",
      "root 2024-10-30 15:20:39,049: INFO: Creating target history columns...\n",
      "root 2024-10-30 15:20:39,053: INFO: Rolling windows will start from 6 samples before to n days before this starting sample\n",
      "root 2024-10-30 15:20:39,082: WARNING: Target target_nb_emmergencies_CHU Dijon%%J+3%%mean_3J not in features_names, adding it to continue\n",
      "root 2024-10-30 15:20:39,083: INFO: Calculating train/val/test sets and encodings...\n"
     ]
    },
    {
     "name": "stdout",
     "output_type": "stream",
     "text": [
      "Dropped columns with zero variance: []\n",
      "Dropped 0 constant columns from both sets: []\n",
      "X shape: (1162, 1), y shape: (1162, 1)\n",
      "[ColumnTransformer] .... (1 of 2) Processing pipeline-3, total=   0.0s\n",
      "[ColumnTransformer] .... (2 of 2) Processing pipeline-4, total=   0.0s\n",
      "Index(['target_nb_emmergencies_CHU Dijon%%J+3%%mean_3J%%J-13',\n",
      "       'nb_emmergencies%%J-1_CHU Dijon',\n",
      "       'target_nb_emmergencies_CHU Dijon%%J+3%%mean_3J%%J-7',\n",
      "       'nb_emmergencies%%std_365J_CH Semur', 'nb_emmergencies%%J-2_CHU Dijon',\n",
      "       'nb_emmergencies%%mean_14J_CH Semur',\n",
      "       'nb_emmergencies%%std_365J_CH Beaune',\n",
      "       'nb_emmergencies%%std_365J_CHU Besançon',\n",
      "       'nb_emmergencies%%std_14J_CH Semur', 'nb_emmergencies_CH Semur',\n",
      "       'nb_emmergencies%%J-5_CHU Dijon', 'nb_emmergencies%%J-1_CH Beaune'],\n",
      "      dtype='object')\n"
     ]
    },
    {
     "name": "stderr",
     "output_type": "stream",
     "text": [
      "UserWarning: Hint: Inferred schema contains integer column(s). Integer columns in Python cannot represent missing values. If your input data contains missing values at inference time, it will be encoded as floats and will cause a schema enforcement error. The best way to avoid this problem is to infer the model schema based on a realistic data sample (training dataset) that includes missing values. Alternatively, you can declare integer columns as doubles (float64) whenever these columns may have missing values. See `Handling Integers With Missing Values <https://www.mlflow.org/docs/latest/models.html#handling-integers-with-missing-values>`_ for more details.\n",
      "root 2024-10-30 15:21:08,011: INFO: Model fitted.\n",
      "UserWarning: Hint: Inferred schema contains integer column(s). Integer columns in Python cannot represent missing values. If your input data contains missing values at inference time, it will be encoded as floats and will cause a schema enforcement error. The best way to avoid this problem is to infer the model schema based on a realistic data sample (training dataset) that includes missing values. Alternatively, you can declare integer columns as doubles (float64) whenever these columns may have missing values. See `Handling Integers With Missing Values <https://www.mlflow.org/docs/latest/models.html#handling-integers-with-missing-values>`_ for more details.\n",
      "root 2024-10-30 15:21:11,843: INFO: Scoring the model...\n",
      "root 2024-10-30 15:21:11,860: INFO: Testing the model...\n",
      "root 2024-10-30 15:21:11,905: INFO: Plotting the results...\n",
      "matplotlib.legend 2024-10-30 15:21:11,916: WARNING: No artists with labels found to put in legend.  Note that artists whose label start with an underscore are ignored when legend() is called with no argument.\n",
      "2024/10/30 15:21:12 INFO mlflow.tracking._tracking_service.client: 🏃 View run run_35 at: http://127.0.0.1:8080/#/experiments/227003089804487542/runs/f158040d68024017b1c6f6957c44ebfa.\n",
      "2024/10/30 15:21:12 INFO mlflow.tracking._tracking_service.client: 🧪 View experiment at: http://127.0.0.1:8080/#/experiments/227003089804487542.\n",
      "2024/10/30 15:21:12 INFO mlflow.system_metrics.system_metrics_monitor: Stopping system metrics monitoring...\n",
      "2024/10/30 15:21:12 INFO mlflow.system_metrics.system_metrics_monitor: Successfully terminated system metrics monitoring!\n"
     ]
    },
    {
     "data": {
      "image/png": "[encoded data removed]",
      "text/plain": [
       "<Figure size 1000x600 with 1 Axes>"
      ]
     },
     "metadata": {},
     "output_type": "display_data"
    }
   ],
   "source": [
    "# Run the experiment\n",
    "ars_experiment.run(dataset_config=dataset_config, model_config=model_config, find_best_features=True)"
   ]
  },
  {
   "cell_type": "code",
   "execution_count": 25,
   "id": "d377c61b",
   "metadata": {},
   "outputs": [],
   "source": [
    "X_train = ars_experiment.dataset.enc_X_train\n",
    "X_test = ars_experiment.dataset.enc_X_test\n",
    "X_val = ars_experiment.dataset.enc_X_val\n",
    "\n",
    "y_train = ars_experiment.dataset.y_train\n",
    "y_test = ars_experiment.dataset.y_test\n",
    "y_val = ars_experiment.dataset.y_val\n",
    "\n",
    "X_train.to_csv(\"X_train.csv\", index=False)\n",
    "X_test.to_csv(\"X_test.csv\", index=False)\n",
    "X_val.to_csv(\"X_val.csv\", index=False)\n",
    "y_train.to_csv(\"y_train.csv\", index=False)\n",
    "y_test.to_csv(\"y_test.csv\", index=False)\n",
    "y_val.to_csv(\"y_val.csv\", index=False)"
   ]
  },
  {
   "cell_type": "code",
   "execution_count": 26,
   "id": "a36c1a78",
   "metadata": {},
   "outputs": [],
   "source": [
    "# model = ars_experiment.model"
   ]
  },
  {
   "cell_type": "code",
   "execution_count": 27,
   "id": "6ddb6c97",
   "metadata": {},
   "outputs": [],
   "source": [
    "# dataset = arsTabularDataset"
   ]
  },
  {
   "cell_type": "code",
   "execution_count": 28,
   "id": "8d6a02e3",
   "metadata": {},
   "outputs": [],
   "source": [
    "# dataset.enc_data.head()"
   ]
  },
  {
   "cell_type": "code",
   "execution_count": 29,
   "id": "6cd40db0",
   "metadata": {},
   "outputs": [],
   "source": [
    "# df = dataset.enc_data\n",
    "# df"
   ]
  },
  {
   "cell_type": "code",
   "execution_count": 30,
   "id": "668e74f5",
   "metadata": {},
   "outputs": [],
   "source": [
    "# from scipy.cluster import hierarchy\n",
    "# from scipy.spatial.distance import squareform\n",
    "# from scipy.stats import spearmanr\n",
    "# import matplotlib.pyplot as plt\n",
    "# import numpy as np\n",
    "\n",
    "# fig, (ax1, ax2) = plt.subplots(1, 2, figsize=(20, 10))\n",
    "# corr = spearmanr(X).correlation\n",
    "\n",
    "# # Ensure the correlation matrix is symmetric\n",
    "# corr = (corr + corr.T) / 2\n",
    "# np.fill_diagonal(corr, 1)\n",
    "\n",
    "# # We convert the correlation matrix to a distance matrix before performing\n",
    "# # hierarchical clustering using Ward's linkage.\n",
    "# distance_matrix = 1 - np.abs(corr)\n",
    "# dist_linkage = hierarchy.ward(squareform(distance_matrix))\n",
    "# dendro = hierarchy.dendrogram(\n",
    "#     dist_linkage, labels=X.columns.to_list(), ax=ax1, leaf_rotation=90\n",
    "# )\n",
    "# dendro_idx = np.arange(0, len(dendro[\"ivl\"]))\n",
    "\n",
    "# ax2.imshow(corr[dendro[\"leaves\"], :][:, dendro[\"leaves\"]])\n",
    "# ax2.set_xticks(dendro_idx)\n",
    "# ax2.set_yticks(dendro_idx)\n",
    "# ax2.set_xticklabels(dendro[\"ivl\"], rotation=\"vertical\")\n",
    "# ax2.set_yticklabels(dendro[\"ivl\"])\n",
    "# fig.tight_layout()"
   ]
  },
  {
   "cell_type": "code",
   "execution_count": 31,
   "id": "381e8a80",
   "metadata": {},
   "outputs": [],
   "source": [
    "# from shap_select import shap_select"
   ]
  },
  {
   "cell_type": "code",
   "execution_count": 32,
   "id": "c3609cf0",
   "metadata": {},
   "outputs": [],
   "source": [
    "# selected_features_df = shap_select(model.best_estimator_, X_val, y_val, task=\"regression\", threshold=0.05)"
   ]
  },
  {
   "cell_type": "code",
   "execution_count": 33,
   "id": "3ec14b98",
   "metadata": {},
   "outputs": [],
   "source": [
    "# X_train"
   ]
  },
  {
   "cell_type": "code",
   "execution_count": 34,
   "id": "8ba18872",
   "metadata": {},
   "outputs": [],
   "source": [
    "# bst = model.best_estimator_.get_booster()"
   ]
  },
  {
   "cell_type": "code",
   "execution_count": 35,
   "id": "64929a56",
   "metadata": {},
   "outputs": [],
   "source": [
    "# importance_gain = bst.get_score(importance_type='gain')\n",
    "# importance_cover = bst.get_score(importance_type='cover')\n",
    "# importance_weight = bst.get_score(importance_type='weight')"
   ]
  },
  {
   "cell_type": "code",
   "execution_count": 36,
   "id": "9ed8f04a",
   "metadata": {},
   "outputs": [],
   "source": [
    "# df_cover = pd.DataFrame(importance_cover, index=[0]).T\n",
    "# df_gain = pd.DataFrame(importance_gain, index=[0]).T\n",
    "# df_weight = pd.DataFrame(importance_weight, index=[0]).T"
   ]
  },
  {
   "cell_type": "code",
   "execution_count": 37,
   "id": "16a9cbe3",
   "metadata": {},
   "outputs": [],
   "source": [
    "# df_cover.shape"
   ]
  },
  {
   "cell_type": "code",
   "execution_count": 38,
   "id": "8829ac0b",
   "metadata": {},
   "outputs": [],
   "source": [
    "# df_cover.sort_values(by=0).plot(kind=\"barh\", figsize=(15,20))\n",
    "# df_gain.sort_values(by=0).plot(kind=\"barh\", figsize=(15,20))\n",
    "# df_weight.sort_values(by=0).plot(kind=\"barh\", figsize=(15,20))"
   ]
  },
  {
   "cell_type": "code",
   "execution_count": 39,
   "id": "1b14aaf6",
   "metadata": {},
   "outputs": [],
   "source": [
    "# model.shapley_additive_explanation(X_test, outname='shap_b', dir_output='.', mode=\"beeswarm\", figsize=(500000, 200000))"
   ]
  },
  {
   "cell_type": "code",
   "execution_count": 40,
   "id": "19133e25",
   "metadata": {},
   "outputs": [],
   "source": [
    "# from collections import defaultdict\n",
    "\n",
    "# cluster_ids = hierarchy.fcluster(dist_linkage, 1, criterion=\"distance\")\n",
    "# cluster_id_to_feature_ids = defaultdict(list)\n",
    "# for idx, cluster_id in enumerate(cluster_ids):\n",
    "#     cluster_id_to_feature_ids[cluster_id].append(idx)\n",
    "# selected_features = [v[0] for v in cluster_id_to_feature_ids.values()]\n",
    "# selected_features_names = X.columns[selected_features]\n",
    "# X_train_sel = X_train[selected_features_names]\n",
    "# X_test_sel = X_test[selected_features_names]\n",
    "# X_val_sel = X_val[selected_features_names]\n",
    "# model_config['fit_params'].update({'eval_set': [(X_val_sel, y_val[target]) for target in ars_experiment.dataset.targets_names]})\n",
    "# model.fit(X_train_sel, y_train, **model_config)\n",
    "# print(\n",
    "#     \"Baseline accuracy on test data with features removed:\"\n",
    "#     f\" {model.score(X_test_sel, y_test):.2}\"\n",
    "# )\n"
   ]
  },
  {
   "cell_type": "code",
   "execution_count": 41,
   "id": "808aacff",
   "metadata": {},
   "outputs": [],
   "source": [
    "# import matplotlib\n",
    "\n",
    "# from sklearn.inspection import permutation_importance\n",
    "# from sklearn.utils.fixes import parse_version\n",
    "\n",
    "\n",
    "# def plot_permutation_importance(clf, X, y, ax):\n",
    "#     result = permutation_importance(clf, X, y, n_repeats=10, random_state=42)\n",
    "#     perm_sorted_idx = result.importances_mean.argsort()\n",
    "\n",
    "#     # `labels` argument in boxplot is deprecated in matplotlib 3.9 and has been\n",
    "#     # renamed to `tick_labels`. The following code handles this.\n",
    "#     tick_labels_parameter_name = (\n",
    "#         \"tick_labels\"\n",
    "#         if parse_version(matplotlib.__version__) >= parse_version(\"3.9\")\n",
    "#         else \"labels\"\n",
    "#     )\n",
    "#     tick_labels_dict = {tick_labels_parameter_name: X.columns[perm_sorted_idx]}\n",
    "#     ax.boxplot(result.importances[perm_sorted_idx].T, vert=False, **tick_labels_dict)\n",
    "#     ax.axvline(x=0, color=\"k\", linestyle=\"--\")\n",
    "#     return ax\n"
   ]
  },
  {
   "cell_type": "code",
   "execution_count": 42,
   "id": "7f729a05",
   "metadata": {},
   "outputs": [],
   "source": [
    "# fig, ax = plt.subplots(figsize=(7, 6))\n",
    "# plot_permutation_importance(model, X_test_sel, y_test, ax)\n",
    "# ax.set_title(\"Permutation Importances on selected subset of features\\n(test set)\")\n",
    "# ax.set_xlabel(\"Decrease in accuracy score\")\n",
    "# ax.figure.tight_layout()\n",
    "# plt.show()"
   ]
  },
  {
   "cell_type": "code",
   "execution_count": 43,
   "id": "37d9e010",
   "metadata": {},
   "outputs": [],
   "source": [
    "# get the first line of x train\n",
    "# X_train_sel[:1]"
   ]
  },
  {
   "cell_type": "code",
   "execution_count": 44,
   "id": "5a0968b2",
   "metadata": {},
   "outputs": [],
   "source": [
    "# y_train[:1]"
   ]
  },
  {
   "cell_type": "code",
   "execution_count": 45,
   "id": "e1745191",
   "metadata": {},
   "outputs": [],
   "source": [
    "# model.predict(X_train_sel[:1])"
   ]
  },
  {
   "cell_type": "code",
   "execution_count": 46,
   "id": "92292f0c",
   "metadata": {},
   "outputs": [],
   "source": [
    "# import shap\n",
    "# shap.initjs()\n",
    "# explainer_xgb = shap.TreeExplainer(model.best_estimator_)\n",
    "# single_explanation = explainer_xgb.shap_values(X_train_sel[:1])\n",
    "# shap.summary_plot(single_explanation, X_test_sel, plot_type=\"bar\")\n"
   ]
  },
  {
   "cell_type": "code",
   "execution_count": 47,
   "id": "c3d0b93b",
   "metadata": {},
   "outputs": [],
   "source": [
    "# X_train.columns"
   ]
  },
  {
   "cell_type": "code",
   "execution_count": 48,
   "id": "7872fab7",
   "metadata": {},
   "outputs": [],
   "source": [
    "# model = ars_experiment.model"
   ]
  },
  {
   "cell_type": "code",
   "execution_count": 49,
   "id": "4c141efd",
   "metadata": {},
   "outputs": [],
   "source": [
    "# X_train = ars_experiment.dataset.enc_X_train\n",
    "# X_test = ars_experiment.dataset.enc_X_test\n",
    "# X_val = ars_experiment.dataset.enc_X_val\n",
    "\n",
    "# y_train = ars_experiment.dataset.y_train\n",
    "# y_test = ars_experiment.dataset.y_test\n",
    "# y_val = ars_experiment.dataset.y_val"
   ]
  },
  {
   "cell_type": "code",
   "execution_count": 50,
   "id": "17da789f",
   "metadata": {},
   "outputs": [],
   "source": [
    "# explainer_xgb = shap.TreeExplainer(model.best_estimator_)"
   ]
  },
  {
   "cell_type": "code",
   "execution_count": 51,
   "id": "4371e1c0",
   "metadata": {},
   "outputs": [],
   "source": [
    "# X_train"
   ]
  },
  {
   "cell_type": "code",
   "execution_count": 52,
   "id": "0e4af7dd",
   "metadata": {},
   "outputs": [],
   "source": [
    "# shap_values_xgb = explainer_xgb.shap_values(X_train)\n"
   ]
  },
  {
   "cell_type": "code",
   "execution_count": 53,
   "id": "6ce8da27",
   "metadata": {},
   "outputs": [],
   "source": [
    "# shap.plots.force(explainer_xgb.expected_value, shap_values_xgb)"
   ]
  },
  {
   "cell_type": "code",
   "execution_count": 54,
   "id": "91b71ff7",
   "metadata": {},
   "outputs": [],
   "source": [
    "# shap.dependence_plot('inc_grippe', shap_values_xgb, X_train_sel)"
   ]
  },
  {
   "cell_type": "code",
   "execution_count": 55,
   "id": "2abc96c4",
   "metadata": {},
   "outputs": [],
   "source": [
    "# shap_values_xgb"
   ]
  }
 ],
 "metadata": {
  "jupytext": {
   "cell_metadata_filter": "-all",
   "main_language": "python",
   "notebook_metadata_filter": "-all"
  },
  "kernelspec": {
   "display_name": ".venv",
   "language": "python",
   "name": "python3"
  },
  "language_info": {
   "codemirror_mode": {
    "name": "ipython",
    "version": 3
   },
   "file_extension": ".py",
   "mimetype": "text/x-python",
   "name": "python",
   "nbconvert_exporter": "python",
   "pygments_lexer": "ipython3",
   "version": "3.10.12"
  }
 },
 "nbformat": 4,
 "nbformat_minor": 5
}
