{
 "cells": [
  {
   "cell_type": "code",
   "execution_count": 1,
   "id": "2af34dec",
   "metadata": {},
   "outputs": [],
   "source": [
    "import datetime as dt\n",
    "import logging\n",
    "import os\n",
    "import sys\n",
    "import pandas as pd"
   ]
  },
  {
   "cell_type": "code",
   "execution_count": 2,
   "id": "2f11b937",
   "metadata": {},
   "outputs": [],
   "source": [
    "sys.path.insert(0, os.path.abspath(\n",
    "    os.path.join(os.path.dirname('__file__'), '..')))\n",
    "from src.features.sports_features import SportsCompetitionFeatures"
   ]
  },
  {
   "cell_type": "code",
   "execution_count": 3,
   "id": "4933ada4",
   "metadata": {},
   "outputs": [],
   "source": [
    "logger = logging.getLogger()\n",
    "logger.setLevel(logging.INFO)\n",
    "logging.basicConfig(level=logging.INFO, encoding=\"utf-8\",\n",
    "                    format=\"%(name)s %(asctime)s: %(levelname)s: %(message)s\", handlers=[logging.StreamHandler()])\n",
    "root_dir = os.path.abspath(os.path.join(os.path.dirname('__file__'), '..'))\n"
   ]
  },
  {
   "cell_type": "code",
   "execution_count": 4,
   "id": "6b9c1f9f",
   "metadata": {},
   "outputs": [
    {
     "name": "stderr",
     "output_type": "stream",
     "text": [
      "root 2024-10-15 17:11:59,058: INFO: Initialisation de la classe sportscompetitionfeatures\n"
     ]
    }
   ],
   "source": [
    "sportsCompetitionFeatures = SportsCompetitionFeatures(logger=logger)"
   ]
  },
  {
   "cell_type": "code",
   "execution_count": 5,
   "id": "5c30e460",
   "metadata": {},
   "outputs": [
    {
     "name": "stderr",
     "output_type": "stream",
     "text": [
      "root 2024-10-15 17:11:59,073: INFO: Fetching data for sportscompetitionfeatures...\n",
      "root 2024-10-15 17:11:59,076: INFO: Intégration des données de football\n",
      "root 2024-10-15 17:11:59,093: INFO: Données de football intégrées\n",
      "root 2024-10-15 17:11:59,094: INFO: Saving data for sportscompetitionfeatures...\n"
     ]
    }
   ],
   "source": [
    "sportsCompetitionFeatures.fetch_data(start_date=dt.datetime.strptime('01-01-2018', '%d-%m-%Y'), stop_date=dt.datetime.strptime('31-12-2023', '%d-%m-%Y'), features_dir = '../data/features')"
   ]
  },
  {
   "cell_type": "code",
   "execution_count": 6,
   "id": "2ef7498a",
   "metadata": {},
   "outputs": [],
   "source": [
    "df = pd.read_feather('/home/maxime/Documents/WORKSPACES/forecasting_models/data/features/sportscompetitionfeatures/data.feather')"
   ]
  },
  {
   "cell_type": "code",
   "execution_count": 7,
   "id": "4df1af7b",
   "metadata": {},
   "outputs": [
    {
     "data": {
      "text/html": [
       "<div>\n",
       "<style scoped>\n",
       "    .dataframe tbody tr th:only-of-type {\n",
       "        vertical-align: middle;\n",
       "    }\n",
       "\n",
       "    .dataframe tbody tr th {\n",
       "        vertical-align: top;\n",
       "    }\n",
       "\n",
       "    .dataframe thead th {\n",
       "        text-align: right;\n",
       "    }\n",
       "</style>\n",
       "<table border=\"1\" class=\"dataframe\">\n",
       "  <thead>\n",
       "    <tr style=\"text-align: right;\">\n",
       "      <th></th>\n",
       "      <th>foot</th>\n",
       "    </tr>\n",
       "    <tr>\n",
       "      <th>date</th>\n",
       "      <th></th>\n",
       "    </tr>\n",
       "  </thead>\n",
       "  <tbody>\n",
       "    <tr>\n",
       "      <th>2018-01-01</th>\n",
       "      <td>0</td>\n",
       "    </tr>\n",
       "    <tr>\n",
       "      <th>2018-01-02</th>\n",
       "      <td>0</td>\n",
       "    </tr>\n",
       "    <tr>\n",
       "      <th>2018-01-03</th>\n",
       "      <td>1</td>\n",
       "    </tr>\n",
       "    <tr>\n",
       "      <th>2018-01-04</th>\n",
       "      <td>1</td>\n",
       "    </tr>\n",
       "    <tr>\n",
       "      <th>2018-01-05</th>\n",
       "      <td>6</td>\n",
       "    </tr>\n",
       "    <tr>\n",
       "      <th>...</th>\n",
       "      <td>...</td>\n",
       "    </tr>\n",
       "    <tr>\n",
       "      <th>2023-12-27</th>\n",
       "      <td>0</td>\n",
       "    </tr>\n",
       "    <tr>\n",
       "      <th>2023-12-28</th>\n",
       "      <td>0</td>\n",
       "    </tr>\n",
       "    <tr>\n",
       "      <th>2023-12-29</th>\n",
       "      <td>0</td>\n",
       "    </tr>\n",
       "    <tr>\n",
       "      <th>2023-12-30</th>\n",
       "      <td>0</td>\n",
       "    </tr>\n",
       "    <tr>\n",
       "      <th>2023-12-31</th>\n",
       "      <td>0</td>\n",
       "    </tr>\n",
       "  </tbody>\n",
       "</table>\n",
       "<p>2191 rows × 1 columns</p>\n",
       "</div>"
      ],
      "text/plain": [
       "            foot\n",
       "date            \n",
       "2018-01-01     0\n",
       "2018-01-02     0\n",
       "2018-01-03     1\n",
       "2018-01-04     1\n",
       "2018-01-05     6\n",
       "...          ...\n",
       "2023-12-27     0\n",
       "2023-12-28     0\n",
       "2023-12-29     0\n",
       "2023-12-30     0\n",
       "2023-12-31     0\n",
       "\n",
       "[2191 rows x 1 columns]"
      ]
     },
     "execution_count": 7,
     "metadata": {},
     "output_type": "execute_result"
    }
   ],
   "source": [
    "df"
   ]
  }
 ],
 "metadata": {
  "jupytext": {
   "cell_metadata_filter": "-all",
   "main_language": "python",
   "notebook_metadata_filter": "-all"
  },
  "kernelspec": {
   "display_name": ".venv",
   "language": "python",
   "name": "python3"
  },
  "language_info": {
   "codemirror_mode": {
    "name": "ipython",
    "version": 3
   },
   "file_extension": ".py",
   "mimetype": "text/x-python",
   "name": "python",
   "nbconvert_exporter": "python",
   "pygments_lexer": "ipython3",
   "version": "3.10.12"
  }
 },
 "nbformat": 4,
 "nbformat_minor": 5
}
