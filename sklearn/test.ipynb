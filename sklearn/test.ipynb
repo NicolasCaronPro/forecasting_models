{
 "cells": [
  {
   "cell_type": "code",
   "execution_count": 1,
   "id": "f1a37006",
   "metadata": {},
   "outputs": [
    {
     "name": "stderr",
     "output_type": "stream",
     "text": [
      "/usr/lib/python3.10/importlib/__init__.py:126: FutureWarning: \n",
      "Dask dataframe query planning is disabled because dask-expr is not installed.\n",
      "\n",
      "You can install it with `pip install dask[dataframe]` or `conda install dask`.\n",
      "This will raise in a future version.\n",
      "\n",
      "  return _bootstrap._gcd_import(name[level:], package, level)\n",
      "/home/maxime/Documents/WORKSPACES/forecasting_models/.venv/lib/python3.10/site-packages/tqdm/auto.py:21: TqdmWarning: IProgress not found. Please update jupyter and ipywidgets. See https://ipywidgets.readthedocs.io/en/stable/user_install.html\n",
      "  from .autonotebook import tqdm as notebook_tqdm\n"
     ]
    }
   ],
   "source": [
    "%load_ext cudf.pandas\n",
    "from pathlib import Path\n",
    "from sklearn_api_model import save_object, Model\n",
    "import xgboost as xgb\n",
    "import pandas as pd\n",
    "from sklearn.model_selection import train_test_split\n",
    "# from ..forecasting_models.tools import save_object"
   ]
  },
  {
   "cell_type": "code",
   "execution_count": null,
   "id": "3d65f6c5",
   "metadata": {},
   "outputs": [],
   "source": [
    "reg = xgb.XGBRegressor()\n",
    "reg.set_params(device='cuda')\n",
    "model = Model(model=reg, loss='rmse', name='Model')"
   ]
  },
  {
   "cell_type": "code",
   "execution_count": null,
   "id": "92407e8d",
   "metadata": {},
   "outputs": [],
   "source": [
    "features = pd.read_csv(\"/home/maxime/Documents/WORKSPACES/ARS_Project/data/dataframes/features_encoded/features_CHU Dijon.csv\")\n",
    "features.set_index('date_entree', inplace=True)"
   ]
  },
  {
   "cell_type": "code",
   "execution_count": null,
   "id": "b3b1b5ed",
   "metadata": {},
   "outputs": [],
   "source": [
    "features = features.dropna()"
   ]
  },
  {
   "cell_type": "code",
   "execution_count": null,
   "id": "d803e137",
   "metadata": {},
   "outputs": [],
   "source": [
    "train_set, test_set = train_test_split(features, test_size=0.2, random_state=42)"
   ]
  },
  {
   "cell_type": "code",
   "execution_count": null,
   "id": "56ebd6c1",
   "metadata": {},
   "outputs": [],
   "source": [
    "X_train = train_set.drop(\"Total\", axis=1)\n",
    "y_train = train_set[\"Total\"]"
   ]
  },
  {
   "cell_type": "code",
   "execution_count": null,
   "id": "ff5bbd59",
   "metadata": {},
   "outputs": [],
   "source": [
    "X_test = test_set.drop(\"Total\", axis=1)\n",
    "y_test = test_set[\"Total\"]"
   ]
  },
  {
   "cell_type": "code",
   "execution_count": null,
   "id": "c06c0179",
   "metadata": {},
   "outputs": [],
   "source": [
    "param_grid = {\n",
    "    'max_depth': [3, 4, 5, 6]\n",
    "}"
   ]
  },
  {
   "cell_type": "code",
   "execution_count": null,
   "id": "5a9f83d4",
   "metadata": {},
   "outputs": [],
   "source": [
    "fit_params = {\n",
    "    }\n",
    "model.fit(X_train, y_train, optimization='grid', grid_params=param_grid, fit_params=fit_params)\n",
    "\n",
    "save_object(model, 'model.pkl', Path('data/models/'))"
   ]
  },
  {
   "cell_type": "code",
   "execution_count": null,
   "id": "a704a33a",
   "metadata": {},
   "outputs": [],
   "source": [
    "print(model.predict(X_test))\n",
    "print(model.score(X_test, y_test))"
   ]
  }
 ],
 "metadata": {
  "jupytext": {
   "cell_metadata_filter": "-all",
   "main_language": "python",
   "notebook_metadata_filter": "-all"
  },
  "kernelspec": {
   "display_name": ".venv",
   "language": "python",
   "name": "python3"
  },
  "language_info": {
   "codemirror_mode": {
    "name": "ipython",
    "version": 3
   },
   "file_extension": ".py",
   "mimetype": "text/x-python",
   "name": "python",
   "nbconvert_exporter": "python",
   "pygments_lexer": "ipython3",
   "version": "3.10.12"
  }
 },
 "nbformat": 4,
 "nbformat_minor": 5
}
