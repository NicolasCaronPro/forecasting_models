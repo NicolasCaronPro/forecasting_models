{
 "cells": [
  {
   "cell_type": "code",
   "execution_count": 1,
   "metadata": {},
   "outputs": [],
   "source": [
    "import os\n",
    "\n",
    "def supprimer_fichier_feather_recursif(dossiers):\n",
    "    \"\"\"\n",
    "    Parcourt les dossiers et leurs sous-dossiers récursivement et supprime\n",
    "    tous les fichiers 'data.feather' s'ils existent.\n",
    "    \n",
    "    :param dossiers: Liste de chemins de dossiers à parcourir.\n",
    "    \"\"\"\n",
    "    for dossier in dossiers:\n",
    "        # Parcours récursivement le dossier et ses sous-dossiers\n",
    "        for chemin_racine, sous_dossiers, fichiers in os.walk(dossier):\n",
    "            # Vérifie si le fichier 'data.feather' est présent dans ce dossier\n",
    "            if 'data.feather' in fichiers:\n",
    "                chemin_fichier = os.path.join(chemin_racine, 'data.feather')\n",
    "                \n",
    "                try:\n",
    "                    # Supprime le fichier\n",
    "                    os.remove(chemin_fichier)\n",
    "                    print(f\"Fichier supprimé: {chemin_fichier}\")\n",
    "                except Exception as e:\n",
    "                    print(f\"Erreur lors de la suppression de {chemin_fichier}: {e}\")\n"
   ]
  },
  {
   "cell_type": "code",
   "execution_count": 2,
   "metadata": {},
   "outputs": [
    {
     "name": "stdout",
     "output_type": "stream",
     "text": [
      "Fichier supprimé: data/features/sociologicalfeatures/data.feather\n",
      "Fichier supprimé: data/features/hopitalfeatures/data.feather\n",
      "Fichier supprimé: data/features/sportscompetitionfeatures/data.feather\n",
      "Fichier supprimé: data/features/airqualityfeatures/data.feather\n",
      "Fichier supprimé: data/features/googletrendfeatures/data.feather\n",
      "Fichier supprimé: data/features/firefightersfeatures/data.feather\n",
      "Fichier supprimé: data/features/trafficfeatures/data.feather\n",
      "Fichier supprimé: data/features/epidemiologicalfeatures/data.feather\n",
      "Fichier supprimé: data/features/meteorologicalfeatures/data.feather\n"
     ]
    }
   ],
   "source": [
    "dossiers_a_parcourir = [\n",
    "    \"data\"\n",
    "]\n",
    "\n",
    "supprimer_fichier_feather_recursif(dossiers_a_parcourir)"
   ]
  }
 ],
 "metadata": {
  "kernelspec": {
   "display_name": ".venv",
   "language": "python",
   "name": "python3"
  },
  "language_info": {
   "codemirror_mode": {
    "name": "ipython",
    "version": 3
   },
   "file_extension": ".py",
   "mimetype": "text/x-python",
   "name": "python",
   "nbconvert_exporter": "python",
   "pygments_lexer": "ipython3",
   "version": "3.10.12"
  }
 },
 "nbformat": 4,
 "nbformat_minor": 2
}
